{
 "cells": [
  {
   "cell_type": "markdown",
   "id": "4423c47f-d67e-45d2-a7d6-9955c62f073b",
   "metadata": {
    "slideshow": {
     "slide_type": "slide"
    }
   },
   "source": [
    "# Statistical Typing: A Runtime Typing System for Data Science and Machine Learning\n",
    "\n",
    "### Niels Bantilan\n",
    "\n",
    "Pycon, May 15th 2021"
   ]
  },
  {
   "cell_type": "markdown",
   "id": "bf856726-3f75-4f1f-abaf-4eefcb1aade3",
   "metadata": {
    "slideshow": {
     "slide_type": "slide"
    }
   },
   "source": [
    "#### Type systems help programmers reason about code and can make programs more computationally efficient."
   ]
  },
  {
   "cell_type": "code",
   "execution_count": null,
   "id": "f3f36079",
   "metadata": {
    "lines_to_next_cell": 1,
    "slideshow": {
     "slide_type": "fragment"
    }
   },
   "outputs": [],
   "source": [
    "from typing import Union\n",
    "\n",
    "Number = Union[int, float]\n",
    "\n",
    "def add_and_double(x: Number, y: Number) -> Number:\n",
    "    ..."
   ]
  },
  {
   "cell_type": "markdown",
   "id": "82957b37",
   "metadata": {
    "slideshow": {
     "slide_type": "fragment"
    }
   },
   "source": [
    "<br>\n",
    "Can you predict the outcome of these function calls?"
   ]
  },
  {
   "cell_type": "code",
   "execution_count": null,
   "id": "72833519",
   "metadata": {
    "slideshow": {
     "slide_type": "fragment"
    }
   },
   "outputs": [],
   "source": [
    "add_and_double(5, 2)\n",
    "add_and_double(5, \"hello\")\n",
    "add_and_double(11.5, -1.5)"
   ]
  },
  {
   "cell_type": "markdown",
   "id": "1e4cdc75-c15c-4bf4-a170-643017d9e05d",
   "metadata": {
    "slideshow": {
     "slide_type": "slide"
    }
   },
   "source": [
    "## 🤔 What would a type system geared towards data science and machine learning look like?"
   ]
  },
  {
   "cell_type": "markdown",
   "id": "53f380f4",
   "metadata": {
    "slideshow": {
     "slide_type": "slide"
    }
   },
   "source": [
    " ## Outline"
   ]
  },
  {
   "cell_type": "markdown",
   "id": "d487d549-81a5-405e-81ab-16ea4d6a016b",
   "metadata": {
    "slideshow": {
     "slide_type": "fragment"
    }
   },
   "source": [
    "- 🐞🐞🐞 introduce you to some of my problems"
   ]
  },
  {
   "cell_type": "markdown",
   "id": "d00caedd-9064-47fe-8278-1e79ffc24de2",
   "metadata": {
    "slideshow": {
     "slide_type": "fragment"
    }
   },
   "source": [
    "- 📊📈 define a specification for data types in the statistical domain"
   ]
  },
  {
   "cell_type": "markdown",
   "id": "255a7678-f511-4363-abaa-7457a32b3291",
   "metadata": {
    "slideshow": {
     "slide_type": "fragment"
    }
   },
   "source": [
    "- 🤯 make you realize that you've been doing statistical typing all along"
   ]
  },
  {
   "cell_type": "markdown",
   "id": "05d6a6dc-f047-423e-af06-14ced07fc259",
   "metadata": {
    "slideshow": {
     "slide_type": "fragment"
    }
   },
   "source": [
    "- 🛠 demonstrate one way it might be put into practice using `pandera`"
   ]
  },
  {
   "cell_type": "markdown",
   "id": "bdeadf21",
   "metadata": {
    "slideshow": {
     "slide_type": "fragment"
    }
   },
   "source": [
    "- 🏎 discuss where this idea can go next"
   ]
  },
  {
   "cell_type": "markdown",
   "id": "9ff79287-041c-4d55-bdb5-1bc7ef7a6b3e",
   "metadata": {
    "slideshow": {
     "slide_type": "slide"
    }
   },
   "source": [
    "## 🐞🐞🐞 An Introduction to Some of my Problems"
   ]
  },
  {
   "cell_type": "markdown",
   "id": "d8ef1e11-94e8-402c-8173-8eb74a564387",
   "metadata": {
    "slideshow": {
     "slide_type": "slide"
    }
   },
   "source": [
    "### The worst bugs are the silent ones, especially if they're in ML models that took a lot of ⏰ to train"
   ]
  },
  {
   "cell_type": "markdown",
   "id": "2321da29",
   "metadata": {
    "slideshow": {
     "slide_type": "fragment"
    }
   },
   "source": [
    "<br>\n",
    "- `model ~ data`"
   ]
  },
  {
   "cell_type": "markdown",
   "id": "6587d324",
   "metadata": {
    "slideshow": {
     "slide_type": "fragment"
    }
   },
   "source": [
    "- `Δdata -> Δmodel`"
   ]
  },
  {
   "cell_type": "markdown",
   "id": "f83293e5",
   "metadata": {
    "slideshow": {
     "slide_type": "fragment"
    }
   },
   "source": [
    "- I define my `model` as a function `f(x) -> y`"
   ]
  },
  {
   "cell_type": "markdown",
   "id": "604fd1dc",
   "metadata": {
    "slideshow": {
     "slide_type": "fragment"
    }
   },
   "source": [
    "- Suppose I'm using `f` in an important business/scientific process"
   ]
  },
  {
   "cell_type": "markdown",
   "id": "da278a15",
   "metadata": {
    "lines_to_next_cell": 2,
    "slideshow": {
     "slide_type": "fragment"
    }
   },
   "source": [
    "- How do I know if `f` is working as intended?"
   ]
  },
  {
   "cell_type": "markdown",
   "id": "093ade61",
   "metadata": {
    "slideshow": {
     "slide_type": "subslide"
    }
   },
   "source": [
    "### Static Type-checking/Linting\n",
    "\n",
    "Catches certain type errors before running code"
   ]
  },
  {
   "cell_type": "code",
   "execution_count": null,
   "id": "b24d7291",
   "metadata": {
    "lines_to_next_cell": 1,
    "slideshow": {
     "slide_type": "fragment"
    }
   },
   "outputs": [],
   "source": [
    "from typing import Union\n",
    "\n",
    "Number = Union[int, float]\n",
    "\n",
    "def add_and_double(x: Number, y: Number) -> Number:\n",
    "    return (x + y) * 2"
   ]
  },
  {
   "cell_type": "markdown",
   "id": "4a71a91c",
   "metadata": {},
   "source": [
    "```python\n",
    "add_and_double(5, 2)        # ✅\n",
    "add_and_double(5, \"hello\")  # ❌\n",
    "add_and_double(11.5, -1.5)  # ✅\n",
    "```"
   ]
  },
  {
   "cell_type": "markdown",
   "id": "6a042d46",
   "metadata": {
    "slideshow": {
     "slide_type": "subslide"
    }
   },
   "source": [
    "### Static Type-checking/Linting\n",
    "\n",
    "**Problem:** What if the underlying implementation is wrong?"
   ]
  },
  {
   "cell_type": "code",
   "execution_count": null,
   "id": "a29e60b7",
   "metadata": {
    "lines_to_next_cell": 1,
    "slideshow": {
     "slide_type": "fragment"
    }
   },
   "outputs": [],
   "source": [
    "from typing import Union\n",
    "\n",
    "Number = Union[int, float]\n",
    "\n",
    "def add_and_double(x: Number, y: Number) -> Number:\n",
    "    return (x - y) * 4"
   ]
  },
  {
   "cell_type": "markdown",
   "id": "41a8fbfc",
   "metadata": {},
   "source": [
    "```python\n",
    "add_and_double(5, 2)        # output: 12\n",
    "add_and_double(5, \"hello\")  # raises: TypeError\n",
    "add_and_double(11.5, -1.5)  # output: 52\n",
    "```"
   ]
  },
  {
   "cell_type": "markdown",
   "id": "f08c5f01",
   "metadata": {
    "slideshow": {
     "slide_type": "subslide"
    }
   },
   "source": [
    "### Unit Tests\n",
    "\n",
    "Unit tests verify the behavior of isolated pieces of functionality and\n",
    "let you know when changes cause breakages or regressions."
   ]
  },
  {
   "cell_type": "code",
   "execution_count": null,
   "id": "5c2a64cd",
   "metadata": {
    "lines_to_next_cell": 1,
    "slideshow": {
     "slide_type": "fragment"
    }
   },
   "outputs": [],
   "source": [
    "import pytest\n",
    "\n",
    "def test_add_and_double():\n",
    "    # 🙂 path\n",
    "    assert add_and_double(5, 2) == 14\n",
    "    assert add_and_double(11.5, -15) == 20.0\n",
    "    assert add_and_double(-10, 1.0) == -18.0\n",
    "\n",
    "def test_add_and_double_exceptions():\n",
    "    # 😞 path\n",
    "    with pytest.raises(TypeError):\n",
    "        add_and_double(5, \"hello\")\n",
    "    with pytest.raises(TypeError):\n",
    "        add_and_double(\"world\", 32.5)"
   ]
  },
  {
   "cell_type": "markdown",
   "id": "8d4e94a9",
   "metadata": {
    "slideshow": {
     "slide_type": "subslide"
    }
   },
   "source": [
    "### Property-based Tests\n",
    "\n",
    "Property-based testing alleviates the burden of explicitly writing test cases"
   ]
  },
  {
   "cell_type": "code",
   "execution_count": null,
   "id": "4f29ced7",
   "metadata": {
    "lines_to_next_cell": 1,
    "slideshow": {
     "slide_type": "fragment"
    }
   },
   "outputs": [],
   "source": [
    "from hypothesis import given\n",
    "from hypothesis.strategies import integers, floats, one_of, text\n",
    "\n",
    "numbers = one_of(integers(), floats())\n",
    "\n",
    "@given(x=numbers, y=numbers)\n",
    "def test_add_and_double(x, y):\n",
    "    assert add_and_double(x, y) == (x + y) * 2\n",
    "\n",
    "@given(x=numbers, y=text())\n",
    "def test_add_and_double_exceptions():\n",
    "    with pytest.raises(TypeError):\n",
    "        add_and_double(x, y)"
   ]
  },
  {
   "cell_type": "markdown",
   "id": "e3a4bf05-2ced-4571-9809-7ddd3f6740f6",
   "metadata": {
    "slideshow": {
     "slide_type": "slide"
    }
   },
   "source": [
    "### 🔎 ⛏ Testing code is hard, testing statistical analysis code is harder!"
   ]
  },
  {
   "cell_type": "markdown",
   "id": "a5fa26ab",
   "metadata": {
    "slideshow": {
     "slide_type": "subslide"
    }
   },
   "source": [
    "#### Toy Example: Training a \"Which Disney Character Are You?\" Model"
   ]
  },
  {
   "cell_type": "raw",
   "id": "fa8a9b9e",
   "metadata": {
    "slideshow": {
     "slide_type": "fragment"
    }
   },
   "source": [
    "<br>\n",
    "<div class=\"mermaid\">\n",
    "    graph LR\n",
    "      U[User] --creates--> S([Survey Response])\n",
    "      S --store data--> D[(Database)]\n",
    "      D --create dataset--> X[(Dataset)]\n",
    "      X --train model--> M([Model])\n",
    "</div>"
   ]
  },
  {
   "cell_type": "code",
   "execution_count": null,
   "id": "d5049423",
   "metadata": {
    "lines_to_next_cell": 1,
    "slideshow": {
     "slide_type": "subslide"
    }
   },
   "outputs": [],
   "source": [
    "from typing import List, TypedDict\n",
    "\n",
    "Response = TypedDict(\"Response\", q1=int, q2=int, q3=str)\n",
    "Example = List[float]\n",
    "\n",
    "def store_data(raw_response: str) -> Response:\n",
    "    ...\n",
    "\n",
    "def create_dataset(raw_responses: List[Response], other_features: List[Example]) -> List[Example]:\n",
    "    ...\n",
    "\n",
    "def train_which_disney_character_are_you_model(survey_responses: List[Example]) -> str:\n",
    "    ..."
   ]
  },
  {
   "cell_type": "markdown",
   "id": "c9570c83",
   "metadata": {
    "slideshow": {
     "slide_type": "fragment"
    }
   },
   "source": [
    "<br>\n",
    "- `store_data`'s scope of concern is atomic, i.e. it only operates\n",
    "  on a single data point 🧘⚛"
   ]
  },
  {
   "cell_type": "markdown",
   "id": "1ac12a2d",
   "metadata": {
    "slideshow": {
     "slide_type": "notes"
    }
   },
   "source": [
    "Easy to write test cases"
   ]
  },
  {
   "cell_type": "markdown",
   "id": "e558418e",
   "metadata": {
    "slideshow": {
     "slide_type": "fragment"
    }
   },
   "source": [
    "- `create_dataset` needs to worry about with the statistical patterns of a\n",
    "  sample of data points 😓📊"
   ]
  },
  {
   "cell_type": "markdown",
   "id": "a5d202ef",
   "metadata": {
    "slideshow": {
     "slide_type": "fragment"
    }
   },
   "source": [
    "- So what if I want to test `create_dataset` on plausible example data?"
   ]
  },
  {
   "cell_type": "markdown",
   "id": "fc068854",
   "metadata": {
    "slideshow": {
     "slide_type": "notes"
    }
   },
   "source": [
    "Difficult to write test case"
   ]
  },
  {
   "cell_type": "markdown",
   "id": "9c515ad3-e709-43a7-a9ae-a6333e82dad7",
   "metadata": {
    "slideshow": {
     "slide_type": "slide"
    }
   },
   "source": [
    "### 🤲 📀 🖼 hand-crafting example dataframes is a major barrier for unit testing."
   ]
  },
  {
   "cell_type": "markdown",
   "id": "7b16e682",
   "metadata": {
    "slideshow": {
     "slide_type": "fragment"
    }
   },
   "source": [
    "<br>\n",
    ".... it's not fun 😭"
   ]
  },
  {
   "cell_type": "markdown",
   "id": "d944c641",
   "metadata": {
    "slideshow": {
     "slide_type": "subslide"
    }
   },
   "source": [
    "### What if I could do something like..."
   ]
  },
  {
   "cell_type": "code",
   "execution_count": null,
   "id": "7217240f",
   "metadata": {
    "tags": [
     "hide_input"
    ]
   },
   "outputs": [],
   "source": [
    "from IPython.display import display"
   ]
  },
  {
   "cell_type": "code",
   "execution_count": null,
   "id": "c1509f6c",
   "metadata": {
    "slideshow": {
     "slide_type": "fragment"
    }
   },
   "outputs": [],
   "source": [
    "import pandera as pa\n",
    "from pandera.typing import Series\n",
    "\n",
    "class Schema(pa.SchemaModel):\n",
    "    variable1: Series[int] = pa.Field(ge=0)\n",
    "    variable2: Series[float] = pa.Field(in_range={\"min_value\": 0, \"max_value\": 1})\n",
    "    variable3: Series[str] = pa.Field(isin=list(\"abc\"))\n",
    "\n",
    "sample_data = Schema.example(size=5)\n",
    "display(sample_data.head(3))"
   ]
  },
  {
   "cell_type": "code",
   "execution_count": null,
   "id": "f825385b",
   "metadata": {
    "slideshow": {
     "slide_type": "fragment"
    }
   },
   "outputs": [],
   "source": [
    "sample_data[\"variable1\"] = sample_data[\"variable1\"] * -1\n",
    "try:\n",
    "    Schema.validate(sample_data)\n",
    "except Exception as e:\n",
    "    print(e)"
   ]
  },
  {
   "cell_type": "markdown",
   "id": "7e08ac2b",
   "metadata": {
    "slideshow": {
     "slide_type": "notes"
    }
   },
   "source": [
    "I won't say much else here except for that I'm not a big fan. It's really\n",
    "tedious"
   ]
  },
  {
   "cell_type": "markdown",
   "id": "0ac93a79-acfe-475a-9585-a1d379185750",
   "metadata": {
    "slideshow": {
     "slide_type": "slide"
    }
   },
   "source": [
    "## 📊📈 Define a Specification for Data Types in the Statistical Domain"
   ]
  },
  {
   "cell_type": "markdown",
   "id": "15fee42a-317a-4780-9071-9d2ba1368e74",
   "metadata": {
    "slideshow": {
     "slide_type": "slide"
    }
   },
   "source": [
    "> Statistical typing extends basic scalar data types with additional\n",
    "> semantics about the properties held by a collection of data points"
   ]
  },
  {
   "cell_type": "markdown",
   "id": "a5845769-8fc7-462d-9369-f24456b5d9bd",
   "metadata": {
    "slideshow": {
     "slide_type": "subslide"
    }
   },
   "source": [
    "### `Boolean → Bernoulli`"
   ]
  },
  {
   "cell_type": "markdown",
   "id": "fadae0f2",
   "metadata": {
    "slideshow": {
     "slide_type": "fragment"
    }
   },
   "source": [
    "```python\n",
    "x1 = True\n",
    "x2 = False\n",
    "```"
   ]
  },
  {
   "cell_type": "markdown",
   "id": "2f10b72a",
   "metadata": {
    "slideshow": {
     "slide_type": "fragment"
    }
   },
   "source": [
    "```python\n",
    "support: Set[bool] = {x1, x2}\n",
    "probability_distribution: Dict[str, float] = {True: 0.5, False, 0.5}\n",
    "FairCoin = Bernoulli(support, probability_distribution)\n",
    "```"
   ]
  },
  {
   "cell_type": "markdown",
   "id": "53c1d341",
   "metadata": {
    "slideshow": {
     "slide_type": "fragment"
    }
   },
   "source": [
    "```python\n",
    "data: FairCoin = [1, 0, 0, 1, 1, 0]\n",
    "\n",
    "mean(data)\n",
    "chi_squared(data)\n",
    "```"
   ]
  },
  {
   "cell_type": "markdown",
   "id": "3bf8a403-1fd6-4fec-aba9-de2f6116ee95",
   "metadata": {
    "slideshow": {
     "slide_type": "subslide"
    }
   },
   "source": [
    "### `Enum → Categorical`"
   ]
  },
  {
   "cell_type": "markdown",
   "id": "41d48208",
   "metadata": {},
   "source": [
    "```python\n",
    "class Animal(Enum):\n",
    "    CAT = 1\n",
    "    DOG = 2\n",
    "    COW = 3\n",
    "    OTHER = 4\n",
    "```"
   ]
  },
  {
   "cell_type": "markdown",
   "id": "d8d33e0e-6540-40d0-ba80-b5d5ef436008",
   "metadata": {
    "slideshow": {
     "slide_type": "fragment"
    }
   },
   "source": [
    "```python\n",
    "FarmAnimals = Categorical(\n",
    "    Animal,\n",
    "    probabilities={\n",
    "        Animal.CAT: 0.01,\n",
    "        Animal.DOG: 0.04,\n",
    "        Animal.COW: 0.5,\n",
    "        Animal.OTHER: 0.45,\n",
    "    },\n",
    "    ordered=False,\n",
    ")\n",
    "```"
   ]
  },
  {
   "cell_type": "markdown",
   "id": "b8e18912",
   "metadata": {
    "slideshow": {
     "slide_type": "fragment"
    }
   },
   "source": [
    "```python\n",
    "data: FarmAnimals = [Animal.CAT] * 50 + [Animal.DOG] * 50\n",
    "\n",
    "check_type(data)  # raise a TypeError\n",
    "```"
   ]
  },
  {
   "cell_type": "markdown",
   "id": "c2613edc-5b10-463d-acac-507e901445b1",
   "metadata": {
    "slideshow": {
     "slide_type": "subslide"
    }
   },
   "source": [
    "### `Int → Poisson`"
   ]
  },
  {
   "cell_type": "markdown",
   "id": "7d8018b8-6b13-43c7-a37c-634da7d0fbae",
   "metadata": {},
   "source": [
    "```python\n",
    "PatientsAdmitted = Poisson(expected_rate=10, interval=datetime.timedelta(days=1))\n",
    "```"
   ]
  },
  {
   "cell_type": "markdown",
   "id": "85c66da4",
   "metadata": {
    "slideshow": {
     "slide_type": "fragment"
    }
   },
   "source": [
    "```python \n",
    "data: List[int] = sample(PatientsAdmitted)\n",
    "```"
   ]
  },
  {
   "cell_type": "markdown",
   "id": "44065070",
   "metadata": {
    "slideshow": {
     "slide_type": "fragment"
    }
   },
   "source": [
    "```python \n",
    "assert all(x >= 0 for x in data)\n",
    "```"
   ]
  },
  {
   "cell_type": "markdown",
   "id": "ff555708-ca1d-4d8c-953a-fd13036012ee",
   "metadata": {
    "slideshow": {
     "slide_type": "subslide"
    }
   },
   "source": [
    "### `Float → Gaussian`"
   ]
  },
  {
   "cell_type": "markdown",
   "id": "943a3fd3-a053-4569-8213-58a411497cba",
   "metadata": {},
   "source": [
    "```python\n",
    "TreeHeightMeters = Gaussian(mean=10, standard_deviation=1)\n",
    "```"
   ]
  },
  {
   "cell_type": "markdown",
   "id": "11a3fab0",
   "metadata": {
    "slideshow": {
     "slide_type": "fragment"
    }
   },
   "source": [
    "```python  \n",
    "def test_process_data():\n",
    "    data: List[float] = sample(TreeHeightMeters)\n",
    "    result = mean(data)\n",
    "    assert 8 <= result  <= 12\n",
    "```"
   ]
  },
  {
   "cell_type": "markdown",
   "id": "540b37bb",
   "metadata": {
    "slideshow": {
     "slide_type": "subslide"
    }
   },
   "source": [
    "### Statistical Type Specification: Types as Schemas"
   ]
  },
  {
   "cell_type": "markdown",
   "id": "ad9006d6",
   "metadata": {
    "slideshow": {
     "slide_type": "fragment"
    }
   },
   "source": [
    "For each variable in my dataset, define:"
   ]
  },
  {
   "cell_type": "markdown",
   "id": "270d5f2d",
   "metadata": {
    "slideshow": {
     "slide_type": "fragment"
    }
   },
   "source": [
    "- **basic datatype**: `int`, `float`, `bool`, `str`, etc."
   ]
  },
  {
   "cell_type": "markdown",
   "id": "2efed42c",
   "metadata": {
    "slideshow": {
     "slide_type": "fragment"
    }
   },
   "source": [
    "- **deterministic properties**: domain of possible values, e.g. `x >= 0`"
   ]
  },
  {
   "cell_type": "markdown",
   "id": "0aeade1a",
   "metadata": {
    "slideshow": {
     "slide_type": "fragment"
    }
   },
   "source": [
    "- **probabilistic properties**: distributions that apply to the variable and\n",
    "  their sufficient statistics, e.g. `mean` and `standard deviation`"
   ]
  },
  {
   "cell_type": "markdown",
   "id": "d2fb2b30",
   "metadata": {
    "slideshow": {
     "slide_type": "slide"
    }
   },
   "source": [
    "## Have you ever done something like this?"
   ]
  },
  {
   "cell_type": "code",
   "execution_count": 7,
   "id": "e23d86d8-0b30-4384-b9a8-108d0673dedd",
   "metadata": {
    "lines_to_next_cell": 2,
    "slideshow": {
     "slide_type": "fragment"
    }
   },
   "outputs": [],
   "source": [
    "import math\n",
    "\n",
    "def normalize(x: List[float]):\n",
    "    \"\"\"Mean-center and scale with standard deviation\"\"\"\n",
    "    mean = sum(x) / len(x)\n",
    "    std = math.sqrt(sum((i - mean) ** 2 for i in x) / len(x))\n",
    "    x_norm = [(i - mean) / std for i in x]\n",
    "\n",
    "    # runtime assertions\n",
    "    assert any(i < 0 for i in x_norm)\n",
    "    assert any(i > 0 for i in x_norm)\n",
    "\n",
    "    return x_norm"
   ]
  },
  {
   "cell_type": "markdown",
   "id": "45547312-8a57-4a87-adaf-f49a529b48b3",
   "metadata": {
    "slideshow": {
     "slide_type": "fragment"
    }
   },
   "source": [
    "#### 🤯 You've Been Doing Statistical Typing All Along"
   ]
  },
  {
   "cell_type": "markdown",
   "id": "d7a2306e",
   "metadata": {
    "slideshow": {
     "slide_type": "subslide"
    }
   },
   "source": [
    "## Implications"
   ]
  },
  {
   "cell_type": "markdown",
   "id": "c7744947",
   "metadata": {
    "slideshow": {
     "slide_type": "fragment"
    }
   },
   "source": [
    "<br>\n",
    "Some statistical properties can be checked statically, e.g. the mean operation cannot be applied to categorical data\n",
    "```python\n",
    "mean(categorical) ❌\n",
    "```"
   ]
  },
  {
   "cell_type": "markdown",
   "id": "7a7ea519",
   "metadata": {
    "slideshow": {
     "slide_type": "fragment"
    }
   },
   "source": [
    "<br>\n",
    "Others can only be checked at runtime, e.g. this sample of data is drawn from a Gaussian of particular parameters\n",
    "```python\n",
    "scipy.stats.normaltest(normalize(raw_data))\n",
    "```"
   ]
  },
  {
   "cell_type": "markdown",
   "id": "19d8ed60",
   "metadata": {
    "slideshow": {
     "slide_type": "fragment"
    }
   },
   "source": [
    "<br>\n",
    "Schemas can be implemented as generative data contracts that can be used for type checking and sampling"
   ]
  },
  {
   "cell_type": "markdown",
   "id": "513c5c0d",
   "metadata": {
    "slideshow": {
     "slide_type": "slide"
    }
   },
   "source": [
    "## 🛠 Statistical Typing in Practice with `pandera`"
   ]
  },
  {
   "cell_type": "markdown",
   "id": "37578571-4fae-4b56-90c8-87e572af4f61",
   "metadata": {
    "slideshow": {
     "slide_type": "subslide"
    }
   },
   "source": [
    "Suppose we're building a predictive model of house prices given features about different houses:"
   ]
  },
  {
   "cell_type": "code",
   "execution_count": 2,
   "id": "85f9ecd9",
   "metadata": {
    "lines_to_next_cell": 1
   },
   "outputs": [],
   "source": [
    "raw_data = \"\"\"\n",
    "square_footage,n_bedrooms,property_type,price\n",
    "750,1,condo,200000\n",
    "900,2,condo,400000\n",
    "1200,2,house,500000\n",
    "1100,3,house,450000\n",
    "1000,2,condo,300000\n",
    "1000,2,townhouse,300000\n",
    "1200,2,townhouse,350000\n",
    "\"\"\""
   ]
  },
  {
   "cell_type": "markdown",
   "id": "54e6566d",
   "metadata": {
    "slideshow": {
     "slide_type": "fragment"
    }
   },
   "source": [
    "<br>\n",
    "- `square_footage`: positive integer"
   ]
  },
  {
   "cell_type": "markdown",
   "id": "6e0f31dc",
   "metadata": {
    "slideshow": {
     "slide_type": "fragment"
    }
   },
   "source": [
    "- `n_bedrooms`: positive integer"
   ]
  },
  {
   "cell_type": "markdown",
   "id": "96142eab",
   "metadata": {
    "slideshow": {
     "slide_type": "fragment"
    }
   },
   "source": [
    "- `property type`: categorical"
   ]
  },
  {
   "cell_type": "markdown",
   "id": "adb121ba",
   "metadata": {
    "slideshow": {
     "slide_type": "fragment"
    }
   },
   "source": [
    "- 🎯 `price`: positive real number"
   ]
  },
  {
   "cell_type": "markdown",
   "id": "4c27d2c9",
   "metadata": {
    "slideshow": {
     "slide_type": "subslide"
    }
   },
   "source": [
    "### Pipeline"
   ]
  },
  {
   "cell_type": "code",
   "execution_count": 3,
   "id": "f6146deb",
   "metadata": {
    "lines_to_next_cell": 1
   },
   "outputs": [],
   "source": [
    "def process_data(raw_data):  # step 1: prepare data for model training\n",
    "    ...\n",
    "    \n",
    "def train_model(processed_data): # step 2: fit a model on processed data\n",
    "    ..."
   ]
  },
  {
   "cell_type": "markdown",
   "id": "92abacb1",
   "metadata": {
    "slideshow": {
     "slide_type": "subslide"
    }
   },
   "source": [
    "### Define Schemas with `pandera`"
   ]
  },
  {
   "cell_type": "code",
   "execution_count": 4,
   "id": "287b8e2c",
   "metadata": {
    "lines_to_next_cell": 1,
    "slideshow": {
     "slide_type": "fragment"
    }
   },
   "outputs": [],
   "source": [
    "import pandera as pa\n",
    "from pandera.typing import Series, DataFrame\n",
    "\n",
    "PROPERTY_TYPES = [\"condo\", \"townhouse\", \"house\"]\n",
    "\n",
    "\n",
    "class BaseSchema(pa.SchemaModel):\n",
    "    square_footage: Series[int] = pa.Field(in_range={\"min_value\": 0, \"max_value\": 3000})\n",
    "    n_bedrooms: Series[int] = pa.Field(in_range={\"min_value\": 0, \"max_value\": 10})\n",
    "    price: Series[int] = pa.Field(in_range={\"min_value\": 0, \"max_value\": 1000000})\n",
    "\n",
    "    class Config:\n",
    "        coerce = True\n",
    "\n",
    "\n",
    "class RawData(BaseSchema):\n",
    "    property_type: Series[str] = pa.Field(isin=PROPERTY_TYPES)\n",
    "\n",
    "\n",
    "class ProcessedData(BaseSchema):\n",
    "    property_type_condo: Series[int] = pa.Field(isin=[0, 1])\n",
    "    property_type_house: Series[int] = pa.Field(isin=[0, 1])    \n",
    "    property_type_townhouse: Series[int] = pa.Field(isin=[0, 1])"
   ]
  },
  {
   "cell_type": "markdown",
   "id": "9a722f7e",
   "metadata": {
    "slideshow": {
     "slide_type": "subslide"
    }
   },
   "source": [
    "### Pipeline\n",
    "\n",
    "With Type Annotations"
   ]
  },
  {
   "cell_type": "code",
   "execution_count": 5,
   "id": "3568be05",
   "metadata": {
    "lines_to_next_cell": 1
   },
   "outputs": [],
   "source": [
    "\n",
    "def process_data(raw_data: DataFrame[RawData]) -> DataFrame[ProcessedData]:\n",
    "    ...\n",
    "    \n",
    "def train_model(processed_data: DataFrame[ProcessedData]):\n",
    "    ..."
   ]
  },
  {
   "cell_type": "markdown",
   "id": "675a3022",
   "metadata": {
    "slideshow": {
     "slide_type": "subslide"
    }
   },
   "source": [
    "### Pipeline\n",
    "\n",
    "With Implementation"
   ]
  },
  {
   "cell_type": "code",
   "execution_count": 6,
   "id": "4534dcfa",
   "metadata": {
    "lines_to_next_cell": 1
   },
   "outputs": [],
   "source": [
    "import pandas as pd\n",
    "from sklearn.base import BaseEstimator\n",
    "from sklearn.linear_model import LinearRegression\n",
    "\n",
    "\n",
    "@pa.check_types\n",
    "def process_data(raw_data: DataFrame[RawData]) -> DataFrame[ProcessedData]:\n",
    "    return pd.get_dummies(\n",
    "        raw_data.astype({\"property_type\": pd.CategoricalDtype(PROPERTY_TYPES)})\n",
    "    )\n",
    "\n",
    "\n",
    "@pa.check_types\n",
    "def train_model(processed_data: DataFrame[ProcessedData]) -> BaseEstimator:\n",
    "    return LinearRegression().fit(\n",
    "        X=processed_data.drop(\"price\", axis=1),\n",
    "        y=processed_data[\"price\"],\n",
    "    )"
   ]
  },
  {
   "cell_type": "markdown",
   "id": "b74e7888",
   "metadata": {
    "slideshow": {
     "slide_type": "subslide"
    }
   },
   "source": [
    "### Running the Pipeline\n",
    "\n",
    "Validate the statistical type of raw and processed data every time we\n",
    "run our pipeline."
   ]
  },
  {
   "cell_type": "code",
   "execution_count": 7,
   "id": "57008926",
   "metadata": {
    "lines_to_next_cell": 2
   },
   "outputs": [
    {
     "name": "stdout",
     "output_type": "stream",
     "text": [
      "✅ model training successful!\n"
     ]
    }
   ],
   "source": [
    "from io import StringIO\n",
    "\n",
    "\n",
    "def run_pipeline(raw_data):\n",
    "    processed_data = process_data(raw_data)\n",
    "    estimator = train_model(processed_data)\n",
    "    # evaluate model, save artifacts, etc...\n",
    "    print(\"✅ model training successful!\")\n",
    "\n",
    "\n",
    "run_pipeline(pd.read_csv(StringIO(raw_data.strip())))"
   ]
  },
  {
   "cell_type": "markdown",
   "id": "a216c00e",
   "metadata": {
    "slideshow": {
     "slide_type": "subslide"
    }
   },
   "source": [
    "### Fail Early and with Useful Information"
   ]
  },
  {
   "cell_type": "code",
   "execution_count": 8,
   "id": "f53131c7",
   "metadata": {},
   "outputs": [
    {
     "name": "stdout",
     "output_type": "stream",
     "text": [
      "error in check_types decorator of function 'process_data': <Schema Column(name=property_type, type=<class 'str'>)> failed element-wise validator 0:\n",
      "<Check isin: isin({'house', 'condo', 'townhouse'})>\n",
      "failure cases:\n",
      "   index failure_case\n",
      "0      0      unknown\n"
     ]
    }
   ],
   "source": [
    "invalid_data = \"\"\"\n",
    "square_footage,n_bedrooms,property_type,price\n",
    "750,1,unknown,200000\n",
    "900,2,condo,400000\n",
    "1200,2,house,500000\n",
    "\"\"\"\n",
    "\n",
    "try:\n",
    "    run_pipeline(pd.read_csv(StringIO(invalid_data.strip())))\n",
    "except Exception as e:\n",
    "    print(e)"
   ]
  },
  {
   "cell_type": "markdown",
   "id": "0e49c7aa",
   "metadata": {
    "slideshow": {
     "slide_type": "subslide"
    }
   },
   "source": [
    "### Schemas as Generative Contracts\n",
    "\n",
    "Define property-based unit tests with `hypothesis`"
   ]
  },
  {
   "cell_type": "code",
   "execution_count": 9,
   "id": "4cd75f27",
   "metadata": {
    "lines_to_next_cell": 1
   },
   "outputs": [],
   "source": [
    "from hypothesis import given\n",
    "\n",
    "\n",
    "@given(RawData.strategy(size=3))\n",
    "def test_process_data(raw_data):\n",
    "    process_data(raw_data)\n",
    "\n",
    "    \n",
    "@given(ProcessedData.strategy(size=3))\n",
    "def test_train_model(processed_data):\n",
    "    estimator = train_model(processed_data)\n",
    "    predictions = estimator.predict(processed_data.drop(\"price\", axis=1))\n",
    "    assert len(predictions) == processed_data.shape[0]"
   ]
  },
  {
   "cell_type": "markdown",
   "id": "27dc38cd",
   "metadata": {
    "slideshow": {
     "slide_type": "fragment"
    }
   },
   "source": [
    "<br>\n",
    "Run test suite"
   ]
  },
  {
   "cell_type": "code",
   "execution_count": 10,
   "id": "5617ba95",
   "metadata": {
    "lines_to_next_cell": 1
   },
   "outputs": [
    {
     "name": "stdout",
     "output_type": "stream",
     "text": [
      "✅ tests successful!\n"
     ]
    }
   ],
   "source": [
    "def run_test_suite():\n",
    "    test_process_data()\n",
    "    test_train_model()\n",
    "    print(\"✅ tests successful!\")    \n",
    "    \n",
    "run_test_suite()"
   ]
  },
  {
   "cell_type": "markdown",
   "id": "e36374de",
   "metadata": {
    "slideshow": {
     "slide_type": "subslide"
    }
   },
   "source": [
    "### Catch Errors in Data Processing Code\n",
    "\n",
    "Define property-based unit tests with `hypothesis`"
   ]
  },
  {
   "cell_type": "code",
   "execution_count": 11,
   "id": "857b8b18",
   "metadata": {},
   "outputs": [
    {
     "name": "stdout",
     "output_type": "stream",
     "text": [
      "Falsifying example: test_process_data(\n",
      "    raw_data=   square_footage  n_bedrooms  price property_type\n",
      "    0               0           0      0         condo\n",
      "    1               0           0      0         condo\n",
      "    2               0           0      0         condo,\n",
      ")\n",
      "error in check_types decorator of function 'process_data': column 'property_type_condo' not in dataframe\n",
      "   square_footage  n_bedrooms  price property_type\n",
      "0               0           0      0         condo\n",
      "1               0           0      0         condo\n",
      "2               0           0      0         condo\n"
     ]
    }
   ],
   "source": [
    "@pa.check_types\n",
    "def process_data(raw_data: DataFrame[RawData]) -> DataFrame[ProcessedData]:\n",
    "    return raw_data\n",
    "\n",
    "try:\n",
    "    run_test_suite()\n",
    "except Exception as e:\n",
    "    print(e)"
   ]
  },
  {
   "cell_type": "markdown",
   "id": "6613f8e3-5348-4c9b-8899-d9c16d898512",
   "metadata": {
    "slideshow": {
     "slide_type": "subslide"
    }
   },
   "source": [
    "### Bootstrapping a Schema from Sample Data\n",
    "\n",
    "For some datasets, it might make sense to infer a schema from a sample of\n",
    "data and go from there:"
   ]
  },
  {
   "cell_type": "code",
   "execution_count": 18,
   "id": "8d324f7a-e837-4cc7-b406-d5abe2eb0e36",
   "metadata": {
    "slideshow": {
     "slide_type": "fragment"
    }
   },
   "outputs": [
    {
     "name": "stdout",
     "output_type": "stream",
     "text": [
      "   square_footage  n_bedrooms property_type   price\n",
      "0             750           1         condo  200000\n",
      "1             900           2         condo  400000\n",
      "2            1200           2         house  500000\n"
     ]
    }
   ],
   "source": [
    "raw_df = pd.read_csv(StringIO(raw_data.strip()))\n",
    "display(raw_df.head(3))"
   ]
  },
  {
   "cell_type": "code",
   "execution_count": 22,
   "id": "01cb8dbb",
   "metadata": {
    "lines_to_next_cell": 2,
    "slideshow": {
     "slide_type": "fragment"
    }
   },
   "outputs": [
    {
     "name": "stdout",
     "output_type": "stream",
     "text": [
      "<Schema DataFrameSchema(\n",
      "    columns={\n",
      "        'square_footage': <Schema Column(name=square_footage, type=int64)>\n",
      "        'n_bedrooms': <Schema Column(name=n_bedrooms, type=int64)>\n",
      "        'property_type': <Schema Column(name=property_type, type=str)>\n",
      "        'price': <Schema Column(name=price, type=int64)>\n",
      "    },\n",
      "    checks=[],\n",
      "    coerce=True,\n",
      "    pandas_dtype=None,\n",
      "    index=<Schema Index(name=None, type=int64)>,\n",
      "    strict=False\n",
      "    name=None,\n",
      "    ordered=False\n",
      ")>\n"
     ]
    }
   ],
   "source": [
    "schema = pa.infer_schema(raw_df)\n",
    "schema.to_yaml()\n",
    "schema.to_script()\n",
    "print(schema)"
   ]
  },
  {
   "cell_type": "markdown",
   "id": "82acfd52-708a-4159-916e-0a6cd270ad56",
   "metadata": {
    "slideshow": {
     "slide_type": "subslide"
    }
   },
   "source": [
    "## 🪛🪓🪚 Use Cases\n",
    "\n",
    "- CI tests for ETL/model training pipeline\n",
    "- Alerting for dataset shift\n",
    "- Monitoring model quality in production"
   ]
  },
  {
   "cell_type": "markdown",
   "id": "5210ae03",
   "metadata": {
    "slideshow": {
     "slide_type": "slide"
    }
   },
   "source": [
    "## 🏎 Where Can this Idea Go Next?"
   ]
  },
  {
   "cell_type": "markdown",
   "id": "b05b3a60",
   "metadata": {
    "lines_to_next_cell": 0,
    "slideshow": {
     "slide_type": "subslide"
    }
   },
   "source": [
    "### Statically analyze code that performs statistical operations\n",
    "```python\n",
    "data: FarmAnimals = [Animal.CAT] * 50 + [Animal.DOG] * 50\n",
    "mean(data)  # ❌ cannot apply mean to Categorical\n",
    "```"
   ]
  },
  {
   "cell_type": "markdown",
   "id": "f857d77d",
   "metadata": {
    "slideshow": {
     "slide_type": "subslide"
    }
   },
   "source": [
    "### Infer model architecture space based on function signatures\n",
    "```python\n",
    "def model(input_data: Normal) -> Bernoulli:\n",
    "    ...\n",
    "\n",
    "type(model)\n",
    "# [LogisticRegression, RandomForestClassifier, ...]\n",
    "```"
   ]
  },
  {
   "cell_type": "markdown",
   "id": "16176284",
   "metadata": {
    "lines_to_next_cell": 0,
    "slideshow": {
     "slide_type": "subslide"
    }
   },
   "source": [
    "### Infer Statistical Types from Data\n",
    "\n",
    "Model-based statistical types\n"
   ]
  },
  {
   "cell_type": "markdown",
   "id": "a63b0406",
   "metadata": {
    "slideshow": {
     "slide_type": "fragment"
    }
   },
   "source": [
    "- schema inference can be arbitrarily complex"
   ]
  },
  {
   "cell_type": "markdown",
   "id": "37361d22",
   "metadata": {
    "slideshow": {
     "slide_type": "fragment"
    }
   },
   "source": [
    "- statistical types can also be arbitrarily complex"
   ]
  },
  {
   "cell_type": "markdown",
   "id": "07ee523b",
   "metadata": {
    "slideshow": {
     "slide_type": "fragment"
    }
   },
   "source": [
    "- data can be encoded as statistical models, and those model artifacts can be\n",
    "  used as components in a schema"
   ]
  },
  {
   "cell_type": "markdown",
   "id": "ed73b3fb",
   "metadata": {
    "slideshow": {
     "slide_type": "subslide"
    }
   },
   "source": [
    "## GAN Schema\n",
    "\n",
    "In theory, a generative adversarial network can be used as a schema to validate\n",
    "real-world data and generate synthetic data"
   ]
  },
  {
   "cell_type": "raw",
   "id": "2b398266",
   "metadata": {},
   "source": [
    "<div class=\"mermaid\">\n",
    "graph TB\n",
    "  subgraph GAN Architecture\n",
    "  G[generator]\n",
    "  D[discriminator]\n",
    "  end\n",
    "  W[real world] --real data--> D\n",
    "  G --synthetic data--> D\n",
    "  D --> P[real/fake]\n",
    "</div>"
   ]
  },
  {
   "cell_type": "markdown",
   "id": "5820ef42",
   "metadata": {
    "slideshow": {
     "slide_type": "subslide"
    }
   },
   "source": [
    "## GAN Schema\n",
    "\n",
    "The discriminator, which is typically discarded after training, can validate\n",
    "real or upstream synthetic data."
   ]
  },
  {
   "cell_type": "raw",
   "id": "8ddd46dc",
   "metadata": {},
   "source": [
    "<div class=\"mermaid\">\n",
    "graph LR\n",
    "  subgraph GAN Schema\n",
    "  G[generator]\n",
    "  D[discriminator]\n",
    "  end\n",
    "  P[data processor] --real/synthetic data--> D\n",
    "  G --synthetic data--> M[model trainer]\n",
    "</div>"
   ]
  },
  {
   "cell_type": "markdown",
   "id": "1385b568",
   "metadata": {
    "slideshow": {
     "slide_type": "subslide"
    }
   },
   "source": [
    "### Validation and Data Synthesis for Complex Statistical Types"
   ]
  },
  {
   "cell_type": "code",
   "execution_count": 31,
   "id": "0e4bae94",
   "metadata": {
    "lines_to_next_cell": 1,
    "tags": [
     "hide_input"
    ]
   },
   "outputs": [
    {
     "data": {
      "text/html": [
       "<div>\n",
       "<style scoped>\n",
       "    .dataframe tbody tr th:only-of-type {\n",
       "        vertical-align: middle;\n",
       "    }\n",
       "\n",
       "    .dataframe tbody tr th {\n",
       "        vertical-align: top;\n",
       "    }\n",
       "\n",
       "    .dataframe thead th {\n",
       "        text-align: right;\n",
       "    }\n",
       "</style>\n",
       "<table border=\"1\" class=\"dataframe\">\n",
       "  <thead>\n",
       "    <tr style=\"text-align: right;\">\n",
       "      <th></th>\n",
       "      <th>images</th>\n",
       "      <th>class</th>\n",
       "    </tr>\n",
       "  </thead>\n",
       "  <tbody>\n",
       "    <tr>\n",
       "      <th>0</th>\n",
       "      <td>image1.jpeg</td>\n",
       "      <td>cat</td>\n",
       "    </tr>\n",
       "    <tr>\n",
       "      <th>1</th>\n",
       "      <td>image2.jpeg</td>\n",
       "      <td>dog</td>\n",
       "    </tr>\n",
       "    <tr>\n",
       "      <th>2</th>\n",
       "      <td>image3.jpeg</td>\n",
       "      <td>cow</td>\n",
       "    </tr>\n",
       "    <tr>\n",
       "      <th>3</th>\n",
       "      <td>image4.jpeg</td>\n",
       "      <td>horse</td>\n",
       "    </tr>\n",
       "  </tbody>\n",
       "</table>\n",
       "</div>"
      ],
      "text/plain": [
       "        images  class\n",
       "0  image1.jpeg    cat\n",
       "1  image2.jpeg    dog\n",
       "2  image3.jpeg    cow\n",
       "3  image4.jpeg  horse"
      ]
     },
     "metadata": {},
     "output_type": "display_data"
    }
   ],
   "source": [
    "dataframe = pd.DataFrame({\n",
    "    \"category\": [\"cat\", \"dog\", \"cow\", \"horse\", \"...\"],\n",
    "    \"images\": [\"image1.jpeg\", \"image2.jpeg\", \"image3.jpeg\", \"image4.jpeg\", \"...\"],\n",
    "})\n",
    "display(dataframe)"
   ]
  },
  {
   "cell_type": "markdown",
   "id": "e8239a91",
   "metadata": {
    "lines_to_next_cell": 2,
    "slideshow": {
     "slide_type": "fragment"
    }
   },
   "source": [
    "```python\n",
    "class ImageSchema(pa.SchemaModel):\n",
    "    category: Series[str] = pa.Field(isin=[\"cat\", \"dog\", \"cow\", \"horse\", \"...\"])\n",
    "    images: Series[Image] = pa.Field(drawn_from=GenerativeAdversarialNetwork(\"weights.pt\"))\n",
    "```"
   ]
  },
  {
   "cell_type": "markdown",
   "id": "aca9f710",
   "metadata": {
    "slideshow": {
     "slide_type": "subslide"
    }
   },
   "source": [
    "## Takeaway\n",
    "\n",
    "Statistical typing extends basic data types into the statistical domain,\n",
    "opening up a bunch of testing capabilities that make statistical code\n",
    "more robust and easier to reason about."
   ]
  },
  {
   "cell_type": "markdown",
   "id": "97a67b73",
   "metadata": {
    "slideshow": {
     "slide_type": "slide"
    }
   },
   "source": [
    "## Thanks!"
   ]
  }
 ],
 "metadata": {
  "jupytext": {
   "encoding": "# -*- coding: utf-8 -*-"
  },
  "kernelspec": {
   "display_name": "pandera-presentations",
   "language": "python",
   "name": "pandera-presentations"
  },
  "language_info": {
   "codemirror_mode": {
    "name": "ipython",
    "version": 3
   },
   "file_extension": ".py",
   "mimetype": "text/x-python",
   "name": "python",
   "nbconvert_exporter": "python",
   "pygments_lexer": "ipython3",
   "version": "3.9.2"
  }
 },
 "nbformat": 4,
 "nbformat_minor": 5
}
