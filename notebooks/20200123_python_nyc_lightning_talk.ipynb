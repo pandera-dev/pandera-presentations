{
 "cells": [
  {
   "cell_type": "markdown",
   "metadata": {
    "slideshow": {
     "slide_type": "slide"
    }
   },
   "source": [
    "# Validating Pandas DataFrames with Pandera\n",
    "\n",
    "Niels Bantilan\n",
    "\n",
    "01/23/2020"
   ]
  },
  {
   "cell_type": "markdown",
   "metadata": {
    "slideshow": {
     "slide_type": "slide"
    }
   },
   "source": [
    "## Problem: I have a dataset, and I want to make sure it has certain properties"
   ]
  },
  {
   "cell_type": "code",
   "execution_count": 1,
   "metadata": {},
   "outputs": [
    {
     "data": {
      "text/html": [
       "<div>\n",
       "<style scoped>\n",
       "    .dataframe tbody tr th:only-of-type {\n",
       "        vertical-align: middle;\n",
       "    }\n",
       "\n",
       "    .dataframe tbody tr th {\n",
       "        vertical-align: top;\n",
       "    }\n",
       "\n",
       "    .dataframe thead th {\n",
       "        text-align: right;\n",
       "    }\n",
       "</style>\n",
       "<table border=\"1\" class=\"dataframe\">\n",
       "  <thead>\n",
       "    <tr style=\"text-align: right;\">\n",
       "      <th></th>\n",
       "      <th>sepal_length_cm</th>\n",
       "      <th>sepal_width_cm</th>\n",
       "      <th>petal_length_cm</th>\n",
       "      <th>petal_width_cm</th>\n",
       "      <th>target</th>\n",
       "      <th>target_names</th>\n",
       "    </tr>\n",
       "  </thead>\n",
       "  <tbody>\n",
       "    <tr>\n",
       "      <th>0</th>\n",
       "      <td>5.1</td>\n",
       "      <td>3.5</td>\n",
       "      <td>1.4</td>\n",
       "      <td>0.2</td>\n",
       "      <td>0</td>\n",
       "      <td>setosa</td>\n",
       "    </tr>\n",
       "    <tr>\n",
       "      <th>1</th>\n",
       "      <td>4.9</td>\n",
       "      <td>3.0</td>\n",
       "      <td>1.4</td>\n",
       "      <td>0.2</td>\n",
       "      <td>0</td>\n",
       "      <td>setosa</td>\n",
       "    </tr>\n",
       "    <tr>\n",
       "      <th>2</th>\n",
       "      <td>4.7</td>\n",
       "      <td>3.2</td>\n",
       "      <td>1.3</td>\n",
       "      <td>0.2</td>\n",
       "      <td>0</td>\n",
       "      <td>setosa</td>\n",
       "    </tr>\n",
       "    <tr>\n",
       "      <th>3</th>\n",
       "      <td>4.6</td>\n",
       "      <td>3.1</td>\n",
       "      <td>1.5</td>\n",
       "      <td>0.2</td>\n",
       "      <td>0</td>\n",
       "      <td>setosa</td>\n",
       "    </tr>\n",
       "    <tr>\n",
       "      <th>4</th>\n",
       "      <td>5.0</td>\n",
       "      <td>3.6</td>\n",
       "      <td>1.4</td>\n",
       "      <td>0.2</td>\n",
       "      <td>0</td>\n",
       "      <td>setosa</td>\n",
       "    </tr>\n",
       "  </tbody>\n",
       "</table>\n",
       "</div>"
      ],
      "text/plain": [
       "   sepal_length_cm  sepal_width_cm  petal_length_cm  petal_width_cm  target  \\\n",
       "0              5.1             3.5              1.4             0.2       0   \n",
       "1              4.9             3.0              1.4             0.2       0   \n",
       "2              4.7             3.2              1.3             0.2       0   \n",
       "3              4.6             3.1              1.5             0.2       0   \n",
       "4              5.0             3.6              1.4             0.2       0   \n",
       "\n",
       "  target_names  \n",
       "0       setosa  \n",
       "1       setosa  \n",
       "2       setosa  \n",
       "3       setosa  \n",
       "4       setosa  "
      ]
     },
     "execution_count": 1,
     "metadata": {},
     "output_type": "execute_result"
    }
   ],
   "source": [
    "import pandas as pd\n",
    "\n",
    "from sklearn.datasets import load_iris\n",
    "\n",
    "iris = load_iris()\n",
    "\n",
    "def normalize_feature_name(x):\n",
    "    return x.replace(\"(\", \"\").replace(\")\", \"\").replace(\" \", \"_\")\n",
    "\n",
    "iris_dataset = pd.DataFrame(\n",
    "    data=iris[\"data\"],\n",
    "    columns=[normalize_feature_name(x) for x in iris[\"feature_names\"]])\n",
    "\n",
    "iris_dataset[\"target\"] = iris[\"target\"]\n",
    "iris_dataset[\"target_names\"] = [iris[\"target_names\"][i] for i in iris[\"target\"]]\n",
    "\n",
    "iris_dataset.head()"
   ]
  },
  {
   "cell_type": "markdown",
   "metadata": {
    "slideshow": {
     "slide_type": "slide"
    }
   },
   "source": [
    "## What do we want to validate?\n",
    "\n",
    "- Certain columns are present in the dataframe\n",
    "- Those columns have the expected data types\n",
    "- Certain deterministic properties of the data are true\n",
    "- Certain statistical properties of the data are true"
   ]
  },
  {
   "cell_type": "markdown",
   "metadata": {
    "slideshow": {
     "slide_type": "slide"
    }
   },
   "source": [
    "## Validating Data Types\n",
    "\n",
    "Use the `dtypes` attribute and check against your expectations"
   ]
  },
  {
   "cell_type": "code",
   "execution_count": 2,
   "metadata": {},
   "outputs": [
    {
     "data": {
      "text/plain": [
       "True"
      ]
     },
     "execution_count": 2,
     "metadata": {},
     "output_type": "execute_result"
    }
   ],
   "source": [
    "expected_dtypes = pd.Series({\n",
    "    \"sepal_length_cm\": \"float64\",\n",
    "    \"sepal_width_cm\": \"float64\",\n",
    "    \"petal_length_cm\": \"float64\",\n",
    "    \"petal_width_cm\": \"float64\",\n",
    "    \"target\": \"int64\",\n",
    "    \"target_names\": \"object\",\n",
    "})\n",
    "\n",
    "(iris_dataset.dtypes == expected_dtypes).all()"
   ]
  },
  {
   "cell_type": "markdown",
   "metadata": {
    "slideshow": {
     "slide_type": "slide"
    }
   },
   "source": [
    "Or you can try coercing the columns into the expected datatypes"
   ]
  },
  {
   "cell_type": "code",
   "execution_count": 3,
   "metadata": {},
   "outputs": [
    {
     "data": {
      "text/html": [
       "<div>\n",
       "<style scoped>\n",
       "    .dataframe tbody tr th:only-of-type {\n",
       "        vertical-align: middle;\n",
       "    }\n",
       "\n",
       "    .dataframe tbody tr th {\n",
       "        vertical-align: top;\n",
       "    }\n",
       "\n",
       "    .dataframe thead th {\n",
       "        text-align: right;\n",
       "    }\n",
       "</style>\n",
       "<table border=\"1\" class=\"dataframe\">\n",
       "  <thead>\n",
       "    <tr style=\"text-align: right;\">\n",
       "      <th></th>\n",
       "      <th>sepal_length_cm</th>\n",
       "      <th>sepal_width_cm</th>\n",
       "      <th>petal_length_cm</th>\n",
       "      <th>petal_width_cm</th>\n",
       "      <th>target</th>\n",
       "      <th>target_names</th>\n",
       "    </tr>\n",
       "  </thead>\n",
       "  <tbody>\n",
       "    <tr>\n",
       "      <th>0</th>\n",
       "      <td>5.1</td>\n",
       "      <td>3.5</td>\n",
       "      <td>1.4</td>\n",
       "      <td>0.2</td>\n",
       "      <td>0</td>\n",
       "      <td>setosa</td>\n",
       "    </tr>\n",
       "    <tr>\n",
       "      <th>1</th>\n",
       "      <td>4.9</td>\n",
       "      <td>3.0</td>\n",
       "      <td>1.4</td>\n",
       "      <td>0.2</td>\n",
       "      <td>0</td>\n",
       "      <td>setosa</td>\n",
       "    </tr>\n",
       "    <tr>\n",
       "      <th>2</th>\n",
       "      <td>4.7</td>\n",
       "      <td>3.2</td>\n",
       "      <td>1.3</td>\n",
       "      <td>0.2</td>\n",
       "      <td>0</td>\n",
       "      <td>setosa</td>\n",
       "    </tr>\n",
       "    <tr>\n",
       "      <th>3</th>\n",
       "      <td>4.6</td>\n",
       "      <td>3.1</td>\n",
       "      <td>1.5</td>\n",
       "      <td>0.2</td>\n",
       "      <td>0</td>\n",
       "      <td>setosa</td>\n",
       "    </tr>\n",
       "    <tr>\n",
       "      <th>4</th>\n",
       "      <td>5.0</td>\n",
       "      <td>3.6</td>\n",
       "      <td>1.4</td>\n",
       "      <td>0.2</td>\n",
       "      <td>0</td>\n",
       "      <td>setosa</td>\n",
       "    </tr>\n",
       "  </tbody>\n",
       "</table>\n",
       "</div>"
      ],
      "text/plain": [
       "   sepal_length_cm  sepal_width_cm  petal_length_cm  petal_width_cm  target  \\\n",
       "0              5.1             3.5              1.4             0.2       0   \n",
       "1              4.9             3.0              1.4             0.2       0   \n",
       "2              4.7             3.2              1.3             0.2       0   \n",
       "3              4.6             3.1              1.5             0.2       0   \n",
       "4              5.0             3.6              1.4             0.2       0   \n",
       "\n",
       "  target_names  \n",
       "0       setosa  \n",
       "1       setosa  \n",
       "2       setosa  \n",
       "3       setosa  \n",
       "4       setosa  "
      ]
     },
     "execution_count": 3,
     "metadata": {},
     "output_type": "execute_result"
    }
   ],
   "source": [
    "iris_dataset_coerced = iris_dataset.astype(expected_dtypes.to_dict())\n",
    "iris_dataset_coerced.head()"
   ]
  },
  {
   "cell_type": "markdown",
   "metadata": {
    "slideshow": {
     "slide_type": "slide"
    }
   },
   "source": [
    "With `pandera`, you can perform type checking and coercion by expressing\n",
    "expectations as a `DataFrameSchema`."
   ]
  },
  {
   "cell_type": "code",
   "execution_count": 4,
   "metadata": {},
   "outputs": [
    {
     "data": {
      "text/html": [
       "<div>\n",
       "<style scoped>\n",
       "    .dataframe tbody tr th:only-of-type {\n",
       "        vertical-align: middle;\n",
       "    }\n",
       "\n",
       "    .dataframe tbody tr th {\n",
       "        vertical-align: top;\n",
       "    }\n",
       "\n",
       "    .dataframe thead th {\n",
       "        text-align: right;\n",
       "    }\n",
       "</style>\n",
       "<table border=\"1\" class=\"dataframe\">\n",
       "  <thead>\n",
       "    <tr style=\"text-align: right;\">\n",
       "      <th></th>\n",
       "      <th>sepal_length_cm</th>\n",
       "      <th>sepal_width_cm</th>\n",
       "      <th>petal_length_cm</th>\n",
       "      <th>petal_width_cm</th>\n",
       "      <th>target</th>\n",
       "      <th>target_names</th>\n",
       "    </tr>\n",
       "  </thead>\n",
       "  <tbody>\n",
       "    <tr>\n",
       "      <th>0</th>\n",
       "      <td>5.1</td>\n",
       "      <td>3.5</td>\n",
       "      <td>1.4</td>\n",
       "      <td>0.2</td>\n",
       "      <td>0</td>\n",
       "      <td>setosa</td>\n",
       "    </tr>\n",
       "    <tr>\n",
       "      <th>1</th>\n",
       "      <td>4.9</td>\n",
       "      <td>3.0</td>\n",
       "      <td>1.4</td>\n",
       "      <td>0.2</td>\n",
       "      <td>0</td>\n",
       "      <td>setosa</td>\n",
       "    </tr>\n",
       "    <tr>\n",
       "      <th>2</th>\n",
       "      <td>4.7</td>\n",
       "      <td>3.2</td>\n",
       "      <td>1.3</td>\n",
       "      <td>0.2</td>\n",
       "      <td>0</td>\n",
       "      <td>setosa</td>\n",
       "    </tr>\n",
       "    <tr>\n",
       "      <th>3</th>\n",
       "      <td>4.6</td>\n",
       "      <td>3.1</td>\n",
       "      <td>1.5</td>\n",
       "      <td>0.2</td>\n",
       "      <td>0</td>\n",
       "      <td>setosa</td>\n",
       "    </tr>\n",
       "    <tr>\n",
       "      <th>4</th>\n",
       "      <td>5.0</td>\n",
       "      <td>3.6</td>\n",
       "      <td>1.4</td>\n",
       "      <td>0.2</td>\n",
       "      <td>0</td>\n",
       "      <td>setosa</td>\n",
       "    </tr>\n",
       "  </tbody>\n",
       "</table>\n",
       "</div>"
      ],
      "text/plain": [
       "   sepal_length_cm  sepal_width_cm  petal_length_cm  petal_width_cm  target  \\\n",
       "0              5.1             3.5              1.4             0.2       0   \n",
       "1              4.9             3.0              1.4             0.2       0   \n",
       "2              4.7             3.2              1.3             0.2       0   \n",
       "3              4.6             3.1              1.5             0.2       0   \n",
       "4              5.0             3.6              1.4             0.2       0   \n",
       "\n",
       "  target_names  \n",
       "0       setosa  \n",
       "1       setosa  \n",
       "2       setosa  \n",
       "3       setosa  \n",
       "4       setosa  "
      ]
     },
     "execution_count": 4,
     "metadata": {},
     "output_type": "execute_result"
    }
   ],
   "source": [
    "import pandera as pa\n",
    "\n",
    "iris_schema = pa.DataFrameSchema(\n",
    "    columns={\n",
    "        \"sepal_length_cm\": pa.Column(pa.Float),\n",
    "        \"sepal_width_cm\": pa.Column(pa.Float),\n",
    "        \"petal_length_cm\": pa.Column(pa.Float),\n",
    "        \"petal_width_cm\": pa.Column(pa.Float),\n",
    "        \"target\": pa.Column(pa.Int),\n",
    "        \"target_names\": pa.Column(pa.String),\n",
    "    },\n",
    "    coerce=True\n",
    ")\n",
    "\n",
    "validated_iris_dataset = iris_schema(iris_dataset)\n",
    "validated_iris_dataset.head()"
   ]
  },
  {
   "cell_type": "markdown",
   "metadata": {
    "slideshow": {
     "slide_type": "slide"
    }
   },
   "source": [
    "If the dataset becomes corrupted and data type coercion fails,\n",
    "`pandera` will raise a `ValueError`."
   ]
  },
  {
   "cell_type": "code",
   "execution_count": 5,
   "metadata": {},
   "outputs": [
    {
     "name": "stdout",
     "output_type": "stream",
     "text": [
      "could not convert string to float: 'foo'\n"
     ]
    }
   ],
   "source": [
    "corrupted_iris_dataset = iris_dataset.copy()\n",
    "corrupted_iris_dataset[\"sepal_length_cm\"] = \"foo\"\n",
    "\n",
    "try:\n",
    "    iris_schema(corrupted_iris_dataset)\n",
    "except Exception as e:\n",
    "    print(e)"
   ]
  },
  {
   "cell_type": "markdown",
   "metadata": {
    "slideshow": {
     "slide_type": "slide"
    }
   },
   "source": [
    "Or if a column is missing it'll throw a `SchemaError`"
   ]
  },
  {
   "cell_type": "code",
   "execution_count": 6,
   "metadata": {},
   "outputs": [
    {
     "name": "stdout",
     "output_type": "stream",
     "text": [
      "column 'sepal_length_cm' not in dataframe\n",
      "   sepal_width_cm  petal_length_cm  petal_width_cm  target target_names\n",
      "0             3.5              1.4             0.2       0       setosa\n",
      "1             3.0              1.4             0.2       0       setosa\n",
      "2             3.2              1.3             0.2       0       setosa\n",
      "3             3.1              1.5             0.2       0       setosa\n",
      "4             3.6              1.4             0.2       0       setosa\n"
     ]
    }
   ],
   "source": [
    "missing_column_iris_dataset = iris_dataset.copy()\n",
    "del missing_column_iris_dataset[\"sepal_length_cm\"]\n",
    "\n",
    "try:\n",
    "    iris_schema(missing_column_iris_dataset)\n",
    "except Exception as e:\n",
    "    print(e)"
   ]
  },
  {
   "cell_type": "markdown",
   "metadata": {
    "slideshow": {
     "slide_type": "slide"
    }
   },
   "source": [
    "## Validating Deterministic Properties\n",
    "\n",
    "What if we wanted to check certain properties that we agree should always\n",
    "be true? The `Check` object allows us to express these expectations."
   ]
  },
  {
   "cell_type": "code",
   "execution_count": 8,
   "metadata": {},
   "outputs": [
    {
     "data": {
      "text/html": [
       "<div>\n",
       "<style scoped>\n",
       "    .dataframe tbody tr th:only-of-type {\n",
       "        vertical-align: middle;\n",
       "    }\n",
       "\n",
       "    .dataframe tbody tr th {\n",
       "        vertical-align: top;\n",
       "    }\n",
       "\n",
       "    .dataframe thead th {\n",
       "        text-align: right;\n",
       "    }\n",
       "</style>\n",
       "<table border=\"1\" class=\"dataframe\">\n",
       "  <thead>\n",
       "    <tr style=\"text-align: right;\">\n",
       "      <th></th>\n",
       "      <th>sepal_length_cm</th>\n",
       "      <th>sepal_width_cm</th>\n",
       "      <th>petal_length_cm</th>\n",
       "      <th>petal_width_cm</th>\n",
       "      <th>target</th>\n",
       "      <th>target_names</th>\n",
       "    </tr>\n",
       "  </thead>\n",
       "  <tbody>\n",
       "    <tr>\n",
       "      <th>0</th>\n",
       "      <td>5.1</td>\n",
       "      <td>3.5</td>\n",
       "      <td>1.4</td>\n",
       "      <td>0.2</td>\n",
       "      <td>0</td>\n",
       "      <td>setosa</td>\n",
       "    </tr>\n",
       "    <tr>\n",
       "      <th>1</th>\n",
       "      <td>4.9</td>\n",
       "      <td>3.0</td>\n",
       "      <td>1.4</td>\n",
       "      <td>0.2</td>\n",
       "      <td>0</td>\n",
       "      <td>setosa</td>\n",
       "    </tr>\n",
       "    <tr>\n",
       "      <th>2</th>\n",
       "      <td>4.7</td>\n",
       "      <td>3.2</td>\n",
       "      <td>1.3</td>\n",
       "      <td>0.2</td>\n",
       "      <td>0</td>\n",
       "      <td>setosa</td>\n",
       "    </tr>\n",
       "    <tr>\n",
       "      <th>3</th>\n",
       "      <td>4.6</td>\n",
       "      <td>3.1</td>\n",
       "      <td>1.5</td>\n",
       "      <td>0.2</td>\n",
       "      <td>0</td>\n",
       "      <td>setosa</td>\n",
       "    </tr>\n",
       "    <tr>\n",
       "      <th>4</th>\n",
       "      <td>5.0</td>\n",
       "      <td>3.6</td>\n",
       "      <td>1.4</td>\n",
       "      <td>0.2</td>\n",
       "      <td>0</td>\n",
       "      <td>setosa</td>\n",
       "    </tr>\n",
       "  </tbody>\n",
       "</table>\n",
       "</div>"
      ],
      "text/plain": [
       "   sepal_length_cm  sepal_width_cm  petal_length_cm  petal_width_cm  target  \\\n",
       "0              5.1             3.5              1.4             0.2       0   \n",
       "1              4.9             3.0              1.4             0.2       0   \n",
       "2              4.7             3.2              1.3             0.2       0   \n",
       "3              4.6             3.1              1.5             0.2       0   \n",
       "4              5.0             3.6              1.4             0.2       0   \n",
       "\n",
       "  target_names  \n",
       "0       setosa  \n",
       "1       setosa  \n",
       "2       setosa  \n",
       "3       setosa  \n",
       "4       setosa  "
      ]
     },
     "execution_count": 8,
     "metadata": {},
     "output_type": "execute_result"
    }
   ],
   "source": [
    "from pandera import Check\n",
    "\n",
    "iris_schema = pa.DataFrameSchema(\n",
    "    columns={\n",
    "        \"sepal_length_cm\": pa.Column(pa.Float, Check.greater_than(0)),\n",
    "        \"sepal_width_cm\": pa.Column(pa.Float, Check.greater_than(0)),\n",
    "        \"petal_length_cm\": pa.Column(pa.Float, Check.greater_than(0)),\n",
    "        \"petal_width_cm\": pa.Column(pa.Float, Check.greater_than(0)),\n",
    "        \"target\": pa.Column(pa.Int, Check.isin([0, 1, 2])),\n",
    "        \"target_names\": pa.Column(\n",
    "            pa.String, Check.isin([\"setosa\", \"versicolor\", \"virginica\"])),\n",
    "    },\n",
    "    coerce=True\n",
    ")\n",
    "\n",
    "validated_iris_dataset = iris_schema(iris_dataset)\n",
    "validated_iris_dataset.head()"
   ]
  },
  {
   "cell_type": "markdown",
   "metadata": {
    "slideshow": {
     "slide_type": "slide"
    }
   },
   "source": [
    "If we corrupt a few of the values in the dataset, we get informative errors."
   ]
  },
  {
   "cell_type": "code",
   "execution_count": 9,
   "metadata": {},
   "outputs": [
    {
     "name": "stdout",
     "output_type": "stream",
     "text": [
      "<Schema Column: 'sepal_length_cm' type=float64> failed element-wise validator 0:\n",
      "<Check _greater_than: greater_than(0)>\n",
      "failure cases:\n",
      "                                                index  count\n",
      "failure_case                                                \n",
      "-10.0         [5, 6, 7, 8, 9, 10, 11, 12, 13, 14, 15]     11\n",
      "-100.0                                [0, 1, 2, 3, 4]      5\n"
     ]
    }
   ],
   "source": [
    "wrong_sepal_length_iris_dataset = iris_dataset.copy()\n",
    "wrong_sepal_length_iris_dataset.loc[:5, \"sepal_length_cm\"] = -100\n",
    "wrong_sepal_length_iris_dataset.loc[5:15, \"sepal_length_cm\"] = -10\n",
    "\n",
    "try:\n",
    "    iris_schema(wrong_sepal_length_iris_dataset)\n",
    "except Exception as e:\n",
    "    print(e)"
   ]
  },
  {
   "cell_type": "markdown",
   "metadata": {
    "slideshow": {
     "slide_type": "slide"
    }
   },
   "source": [
    "## Validating Statistical Hypotheses\n",
    "\n",
    "What if we want to test the hypothesis that the petal width of `virginica` flowers\n",
    "are larger than that of `setosa`? `pandera` provides an intuitive interface for\n",
    "expressing this in a `DataFrameSchema`."
   ]
  },
  {
   "cell_type": "code",
   "execution_count": 10,
   "metadata": {},
   "outputs": [
    {
     "data": {
      "text/html": [
       "<div>\n",
       "<style scoped>\n",
       "    .dataframe tbody tr th:only-of-type {\n",
       "        vertical-align: middle;\n",
       "    }\n",
       "\n",
       "    .dataframe tbody tr th {\n",
       "        vertical-align: top;\n",
       "    }\n",
       "\n",
       "    .dataframe thead th {\n",
       "        text-align: right;\n",
       "    }\n",
       "</style>\n",
       "<table border=\"1\" class=\"dataframe\">\n",
       "  <thead>\n",
       "    <tr style=\"text-align: right;\">\n",
       "      <th></th>\n",
       "      <th>sepal_length_cm</th>\n",
       "      <th>sepal_width_cm</th>\n",
       "      <th>petal_length_cm</th>\n",
       "      <th>petal_width_cm</th>\n",
       "      <th>target</th>\n",
       "      <th>target_names</th>\n",
       "    </tr>\n",
       "  </thead>\n",
       "  <tbody>\n",
       "    <tr>\n",
       "      <th>0</th>\n",
       "      <td>5.1</td>\n",
       "      <td>3.5</td>\n",
       "      <td>1.4</td>\n",
       "      <td>0.2</td>\n",
       "      <td>0</td>\n",
       "      <td>setosa</td>\n",
       "    </tr>\n",
       "    <tr>\n",
       "      <th>1</th>\n",
       "      <td>4.9</td>\n",
       "      <td>3.0</td>\n",
       "      <td>1.4</td>\n",
       "      <td>0.2</td>\n",
       "      <td>0</td>\n",
       "      <td>setosa</td>\n",
       "    </tr>\n",
       "    <tr>\n",
       "      <th>2</th>\n",
       "      <td>4.7</td>\n",
       "      <td>3.2</td>\n",
       "      <td>1.3</td>\n",
       "      <td>0.2</td>\n",
       "      <td>0</td>\n",
       "      <td>setosa</td>\n",
       "    </tr>\n",
       "    <tr>\n",
       "      <th>3</th>\n",
       "      <td>4.6</td>\n",
       "      <td>3.1</td>\n",
       "      <td>1.5</td>\n",
       "      <td>0.2</td>\n",
       "      <td>0</td>\n",
       "      <td>setosa</td>\n",
       "    </tr>\n",
       "    <tr>\n",
       "      <th>4</th>\n",
       "      <td>5.0</td>\n",
       "      <td>3.6</td>\n",
       "      <td>1.4</td>\n",
       "      <td>0.2</td>\n",
       "      <td>0</td>\n",
       "      <td>setosa</td>\n",
       "    </tr>\n",
       "  </tbody>\n",
       "</table>\n",
       "</div>"
      ],
      "text/plain": [
       "   sepal_length_cm  sepal_width_cm  petal_length_cm  petal_width_cm  target  \\\n",
       "0              5.1             3.5              1.4             0.2       0   \n",
       "1              4.9             3.0              1.4             0.2       0   \n",
       "2              4.7             3.2              1.3             0.2       0   \n",
       "3              4.6             3.1              1.5             0.2       0   \n",
       "4              5.0             3.6              1.4             0.2       0   \n",
       "\n",
       "  target_names  \n",
       "0       setosa  \n",
       "1       setosa  \n",
       "2       setosa  \n",
       "3       setosa  \n",
       "4       setosa  "
      ]
     },
     "execution_count": 10,
     "metadata": {},
     "output_type": "execute_result"
    }
   ],
   "source": [
    "from pandera import Hypothesis\n",
    "\n",
    "hypothesis_test_schema = pa.DataFrameSchema({\n",
    "    \"petal_width_cm\": pa.Column(\n",
    "        pa.Float,\n",
    "        Hypothesis.two_sample_ttest(\n",
    "            sample1=\"virginica\",\n",
    "            relationship=\"greater_than\",\n",
    "            sample2=\"setosa\",\n",
    "            groupby=\"target_names\",\n",
    "            alpha=0.01)),\n",
    "    \"target_names\": pa.Column(pa.String)\n",
    "})\n",
    "\n",
    "hypothesis_tested_iris_dataset = hypothesis_test_schema(iris_dataset)\n",
    "hypothesis_tested_iris_dataset.head()"
   ]
  },
  {
   "cell_type": "markdown",
   "metadata": {
    "slideshow": {
     "slide_type": "slide"
    }
   },
   "source": [
    "`pandera` will tell us if this hypothesis test doesn't pass."
   ]
  },
  {
   "cell_type": "code",
   "execution_count": 11,
   "metadata": {},
   "outputs": [
    {
     "name": "stdout",
     "output_type": "stream",
     "text": [
      "<Schema Column: 'petal_width_cm' type=float64> failed series validator 0: <Check _hypothesis_check: failed two sample ttest between 'virginica' and 'setosa'>\n"
     ]
    }
   ],
   "source": [
    "petal_width_corrupted_iris_dataset = iris_dataset.copy()\n",
    "\n",
    "petal_width_corrupted_iris_dataset.loc[\n",
    "    petal_width_corrupted_iris_dataset.target_names == \"virginica\",\n",
    "    \"petal_width_cm\"] = -100\n",
    "\n",
    "try:\n",
    "    hypothesis_test_schema(petal_width_corrupted_iris_dataset)\n",
    "except Exception as e:\n",
    "    print(e)"
   ]
  },
  {
   "cell_type": "markdown",
   "metadata": {
    "slideshow": {
     "slide_type": "slide"
    }
   },
   "source": [
    "## Seamless Integration Into Your Data Pipelines\n",
    "\n",
    "Finally `pandera` offers seamless integration with your existing code via decorators."
   ]
  },
  {
   "cell_type": "code",
   "execution_count": 12,
   "metadata": {},
   "outputs": [],
   "source": [
    "from pandera import check_output, check_input\n",
    "\n",
    "def normalize_feature_name(x):\n",
    "    return x.replace(\"(\", \"\").replace(\")\", \"\").replace(\" \", \"_\")\n",
    "\n",
    "@check_output(iris_schema)\n",
    "def load_iris_dataframe():\n",
    "    iris = load_iris()\n",
    "    iris_dataset = pd.DataFrame(\n",
    "        data=iris[\"data\"],\n",
    "        columns=[normalize_feature_name(x) for x in iris[\"feature_names\"]])\n",
    "\n",
    "    iris_dataset[\"target\"] = iris[\"target\"]\n",
    "    iris_dataset[\"target_names\"] = [\n",
    "        iris[\"target_names\"][i] for i in iris[\"target\"]]\n",
    "    return iris_dataset\n",
    "\n",
    "@check_input(iris_schema)\n",
    "def train_model(iris_dataset):\n",
    "    ...\n"
   ]
  },
  {
   "cell_type": "markdown",
   "metadata": {
    "slideshow": {
     "slide_type": "slide"
    }
   },
   "source": [
    "### Thanks!\n",
    "\n",
    "github: https://github.com/pandera-dev/pandera\n",
    "\n",
    "docs: https://pandera.readthedocs.io/en/latest\n",
    "\n",
    "slides: https://github.com/pandera-dev/pandera-presentations\n",
    "\n",
    "[@cosmicbboy](https://twitter.com/cosmicBboy)"
   ]
  }
 ],
 "metadata": {
  "kernelspec": {
   "display_name": "Python 3",
   "language": "python",
   "name": "python3"
  },
  "language_info": {
   "codemirror_mode": {
    "name": "ipython",
    "version": 3
   },
   "file_extension": ".py",
   "mimetype": "text/x-python",
   "name": "python",
   "nbconvert_exporter": "python",
   "pygments_lexer": "ipython3",
   "version": "3.7.6"
  }
 },
 "nbformat": 4,
 "nbformat_minor": 4
}
