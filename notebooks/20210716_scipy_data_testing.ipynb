{
 "cells": [
  {
   "cell_type": "markdown",
   "id": "5a898349",
   "metadata": {
    "slideshow": {
     "slide_type": "slide"
    }
   },
   "source": [
    "\n",
    "# Pandera: Towards Better Data Testing Tools for Data Science and Machine Learning\n",
    "\n",
    "### Niels Bantilan\n",
    "\n",
    "Scipy, July 16th 2021"
   ]
  },
  {
   "cell_type": "markdown",
   "id": "314a7150",
   "metadata": {
    "slideshow": {
     "slide_type": "notes"
    }
   },
   "source": [
    "This talk about the road to better data testing tools for data science and\n",
    "machine learning"
   ]
  },
  {
   "cell_type": "markdown",
   "id": "9fe67515",
   "metadata": {
    "slideshow": {
     "slide_type": "slide"
    }
   },
   "source": [
    "# Outline 📝"
   ]
  },
  {
   "cell_type": "markdown",
   "id": "92228a1d",
   "metadata": {
    "slideshow": {
     "slide_type": "fragment"
    }
   },
   "source": [
    "- Introduction to Data Testing"
   ]
  },
  {
   "cell_type": "markdown",
   "id": "2bc2d398",
   "metadata": {
    "slideshow": {
     "slide_type": "fragment"
    }
   },
   "source": [
    "- Pandera Quickstart"
   ]
  },
  {
   "cell_type": "markdown",
   "id": "659ed04f",
   "metadata": {
    "slideshow": {
     "slide_type": "fragment"
    }
   },
   "source": [
    "- Roadmap: Guiding Principles"
   ]
  },
  {
   "cell_type": "markdown",
   "id": "d3a4127e",
   "metadata": {
    "slideshow": {
     "slide_type": "fragment"
    }
   },
   "source": [
    "- How to Contribute"
   ]
  },
  {
   "cell_type": "markdown",
   "id": "dfe21e83",
   "metadata": {
    "slideshow": {
     "slide_type": "slide"
    }
   },
   "source": [
    "\n",
    "# Introduction to Data Testing\n",
    "\n",
    "> \"Data Testing\" is the colloquial term [for] \"schema validation\" or \"data validation\"...\n",
    "> It's merely a fancy way of [saying], \"are my data as I expect them to be?\" - [Eric Ma](https://ericmjl.github.io/blog/2020/8/30/pandera-data-validation-and-statistics/)"
   ]
  },
  {
   "cell_type": "markdown",
   "id": "cc82c9b1",
   "metadata": {
    "slideshow": {
     "slide_type": "fragment"
    }
   },
   "source": [
    "> **Addendum**: \"Data Testing\" can also be thought of as testing the transformation code\n",
    "> that produces the data."
   ]
  },
  {
   "cell_type": "markdown",
   "id": "4f1fdc24",
   "metadata": {
    "slideshow": {
     "slide_type": "notes"
    }
   },
   "source": [
    "To give you a simple example..."
   ]
  },
  {
   "cell_type": "markdown",
   "id": "529244d9",
   "metadata": {
    "lines_to_next_cell": 0,
    "slideshow": {
     "slide_type": "slide"
    }
   },
   "source": [
    "## A Simple Example: Life Before Pandera\n",
    "\n",
    "`data_cleaner.py`"
   ]
  },
  {
   "cell_type": "code",
   "execution_count": null,
   "id": "b8b39b2e",
   "metadata": {
    "lines_to_next_cell": 2
   },
   "outputs": [],
   "source": [
    "import pandas as pd\n",
    "\n",
    "raw_data = pd.DataFrame({\n",
    "    \"continuous\": [\"-1.1\", \"4.0\", \"10.25\", \"-0.1\", \"5.2\"],\n",
    "    \"categorical\": [\"A\", \"B\", \"C\", \"Z\", \"X\"],\n",
    "})\n",
    "\n",
    "def clean(raw_data):\n",
    "    return (\n",
    "        raw_data\n",
    "        # do some cleaning 🧹✨\n",
    "    )"
   ]
  },
  {
   "cell_type": "markdown",
   "id": "7b0e256b",
   "metadata": {
    "slideshow": {
     "slide_type": "fragment"
    }
   },
   "source": [
    "<br>\n",
    "`test_data_cleaner.py`"
   ]
  },
  {
   "cell_type": "code",
   "execution_count": null,
   "id": "ed1950c2",
   "metadata": {
    "lines_to_next_cell": 1
   },
   "outputs": [],
   "source": [
    "def test_clean():\n",
    "    mock_raw_data = ...  # hand-written mock data 😅\n",
    "    result = clean(mock_raw_data)\n",
    "\n",
    "    # assumptions about clean data\n",
    "    assert result[\"continuous\"].ge(0).all()\n",
    "    assert result[\"categorical\"].isin([\"A\", \"B\", \"C\"]).all()"
   ]
  },
  {
   "cell_type": "markdown",
   "id": "6b80e84d",
   "metadata": {
    "slideshow": {
     "slide_type": "slide"
    }
   },
   "source": [
    "\n",
    "<img src=\"https://raw.githubusercontent.com/pandera-dev/pandera/master/docs/source/_static/pandera-logo.png\" width=\"125px\" style=\"margin: 0;\"/>\n",
    "\n",
    "<h2 style=\"margin-top: 0;\">Pandera Quickstart</h2>\n",
    "\n",
    "An expressive and light-weight statistical validation tool for dataframes\n",
    "<br>"
   ]
  },
  {
   "cell_type": "markdown",
   "id": "dfdbe216",
   "metadata": {
    "slideshow": {
     "slide_type": "fragment"
    }
   },
   "source": [
    "- Check the types and properties of dataframes"
   ]
  },
  {
   "cell_type": "markdown",
   "id": "d85146e5",
   "metadata": {
    "slideshow": {
     "slide_type": "fragment"
    }
   },
   "source": [
    "- Easily integrate with existing data pipelines via function decorators"
   ]
  },
  {
   "cell_type": "markdown",
   "id": "8ad062b0",
   "metadata": {
    "slideshow": {
     "slide_type": "fragment"
    }
   },
   "source": [
    "- Synthesize data from schema objects for property-based testing"
   ]
  },
  {
   "cell_type": "markdown",
   "id": "00d0eb5c",
   "metadata": {
    "slideshow": {
     "slide_type": "slide"
    }
   },
   "source": [
    "#### Object-based API\n",
    "\n",
    "Defining a schema looks and feels like defining a pandas dataframe"
   ]
  },
  {
   "cell_type": "code",
   "execution_count": null,
   "id": "998f90e2",
   "metadata": {
    "lines_to_next_cell": 1
   },
   "outputs": [],
   "source": [
    "import pandera as pa\n",
    "\n",
    "schema = pa.DataFrameSchema(\n",
    "    columns={\n",
    "        \"continuous\": pa.Column(float, pa.Check.ge(0)),\n",
    "        \"categorical\": pa.Column(str, pa.Check.isin([\"A\", \"B\", \"C\"])),\n",
    "    },\n",
    "    coerce=True,\n",
    ")"
   ]
  },
  {
   "cell_type": "markdown",
   "id": "a4b079ba",
   "metadata": {
    "slideshow": {
     "slide_type": "fragment"
    }
   },
   "source": [
    "#### Class-based API\n",
    "\n",
    "Inspired by [pydantic](https://pydantic-docs.helpmanual.io/)"
   ]
  },
  {
   "cell_type": "code",
   "execution_count": null,
   "id": "40ec91e6",
   "metadata": {
    "lines_to_next_cell": 1
   },
   "outputs": [],
   "source": [
    "from pandera.typing import Series\n",
    "\n",
    "class Schema(pa.SchemaModel):\n",
    "    continuous: Series[float] = pa.Field(ge=0)\n",
    "    categorical: Series[str] = pa.Field(isin=[\"A\", \"B\", \"C\"])\n",
    "\n",
    "    class Config:\n",
    "        coerce = True"
   ]
  },
  {
   "cell_type": "code",
   "execution_count": null,
   "id": "8d6b2943",
   "metadata": {
    "tags": [
     "hide_input"
    ]
   },
   "outputs": [],
   "source": [
    "from IPython.display import display, Markdown"
   ]
  },
  {
   "cell_type": "markdown",
   "id": "3037e741",
   "metadata": {
    "slideshow": {
     "slide_type": "notes"
    }
   },
   "source": [
    "Pandera comes in two flavors"
   ]
  },
  {
   "cell_type": "markdown",
   "id": "4ed5c93d",
   "metadata": {
    "slideshow": {
     "slide_type": "slide"
    }
   },
   "source": [
    "#### Pandera Parses and Validates Data\n",
    "\n",
    "With `coerce=True` pandera first performs type coercion on the columns before\n",
    "validating them."
   ]
  },
  {
   "cell_type": "code",
   "execution_count": null,
   "id": "1aa828db",
   "metadata": {
    "lines_to_next_cell": 1
   },
   "outputs": [],
   "source": [
    "raw_data = pd.DataFrame({\n",
    "    \"continuous\": [\"-1.1\", \"4.0\", \"10.25\", \"-0.1\", \"5.2\"],\n",
    "    \"categorical\": [\"A\", \"B\", \"C\", \"Z\", \"X\"],\n",
    "})\n",
    "\n",
    "try:\n",
    "    Schema.validate(raw_data, lazy=True)\n",
    "except pa.errors.SchemaErrors as exc:\n",
    "    display(exc.failure_cases)"
   ]
  },
  {
   "cell_type": "markdown",
   "id": "b27d7a26",
   "metadata": {
    "slideshow": {
     "slide_type": "notes"
    }
   },
   "source": [
    "The core API of pandera\n",
    "\n",
    "As a meta-point, this presentation is built with jupyter, so almost all\n",
    "the code in this presentation is validated and tested with pandera"
   ]
  },
  {
   "cell_type": "markdown",
   "id": "362a074e",
   "metadata": {
    "slideshow": {
     "slide_type": "slide"
    }
   },
   "source": [
    "\n",
    "# 🛣 Roadmap: Guiding Principles"
   ]
  },
  {
   "cell_type": "markdown",
   "id": "055d39ac",
   "metadata": {
    "slideshow": {
     "slide_type": "notes"
    }
   },
   "source": [
    "I'll outline pandera's roadmap by describing to you four guiding principles\n",
    "that guides the project's development."
   ]
  },
  {
   "cell_type": "markdown",
   "id": "19f72ace",
   "metadata": {
    "slideshow": {
     "slide_type": "slide"
    }
   },
   "source": [
    "\n",
    "### Principle 1: Parse, then Validate\n",
    "\n",
    "> pydantic [and pandera guarantee] the types and constraints of the output\n",
    "> [data], not the input data. -[Pydantic Docs](https://pydantic-docs.helpmanual.io/usage/models/)\n",
    "\n",
    "```python\n",
    "raw_data = ...\n",
    "valid_data = validate(parse(raw_data))  # raise Exception if constraints are not met\n",
    "```"
   ]
  },
  {
   "cell_type": "markdown",
   "id": "efedfef1",
   "metadata": {
    "lines_to_next_cell": 2,
    "slideshow": {
     "slide_type": "subslide"
    }
   },
   "source": [
    "Pandera guarantees that input and output dataframes fulfill the types and\n",
    "constraints as defined by type annotations."
   ]
  },
  {
   "cell_type": "code",
   "execution_count": null,
   "id": "ad2b1765",
   "metadata": {
    "lines_to_next_cell": 2
   },
   "outputs": [],
   "source": [
    "raw_data = pd.DataFrame({\n",
    "    \"continuous\": list(\"123456\"),\n",
    "    \"categorical\": list(\"AABBCC\"),\n",
    "})"
   ]
  },
  {
   "cell_type": "code",
   "execution_count": null,
   "id": "d4aca280",
   "metadata": {
    "lines_to_next_cell": 1,
    "slideshow": {
     "slide_type": "fragment"
    }
   },
   "outputs": [],
   "source": [
    "class Schema(pa.SchemaModel):\n",
    "    continuous: Series[float] = pa.Field(ge=0)\n",
    "    categorical: Series[str] = pa.Field(isin=[\"A\", \"B\", \"C\"])\n",
    "\n",
    "    class Config:\n",
    "        coerce = True"
   ]
  },
  {
   "cell_type": "code",
   "execution_count": null,
   "id": "6ffc35aa",
   "metadata": {
    "slideshow": {
     "slide_type": "fragment"
    }
   },
   "outputs": [],
   "source": [
    "from pandera.typing import DataFrame\n",
    "\n",
    "@pa.check_types\n",
    "def summarize_data(clean_data: DataFrame[Schema]):\n",
    "    return clean_data.groupby(\"categorical\")[\"continuous\"].mean()\n",
    "\n",
    "display(summarize_data(raw_data).rename(\"mean_continuous\").to_frame())"
   ]
  },
  {
   "cell_type": "markdown",
   "id": "8c67381d",
   "metadata": {
    "slideshow": {
     "slide_type": "subslide"
    }
   },
   "source": [
    "### 🛣 Roadmap Item\n",
    "\n",
    "Extend parsing functionality to support arbitrary transformations [![github-issue](https://img.shields.io/badge/github_issue-252-blue?style=for-the-badge&logo=github)](https://github.com/pandera-dev/pandera/issues/252)"
   ]
  },
  {
   "cell_type": "markdown",
   "id": "7dd7fbbc",
   "metadata": {
    "lines_to_next_cell": 2
   },
   "source": [
    "``` python\n",
    "class Schema(pa.SchemaModel):\n",
    "    continuous: Series[float] = pa.Field(ge=0)\n",
    "    categorical: Series[str] = pa.Field(isin=[\"A\", \"B\", \"C\"])\n",
    "\n",
    "    class Config:\n",
    "        coerce = True\n",
    "\n",
    "    @pa.parser(\"continuous\")\n",
    "    def truncate_continuous(cls, series):\n",
    "        \"\"\"set negative values to nan\"\"\"\n",
    "        return series.mask(series < 0, pd.NA)\n",
    "\n",
    "    @pa.parser(\"continuous\")\n",
    "    def filter_continuous(cls, series):\n",
    "        \"\"\"filter out records with negative values in the continuous column\"\"\"\n",
    "        return series[series >= 0]\n",
    "```"
   ]
  },
  {
   "cell_type": "markdown",
   "id": "8ef37a09",
   "metadata": {
    "slideshow": {
     "slide_type": "slide"
    }
   },
   "source": [
    "### Principle 2: Make Schemas Reuseable, Adaptable, and Portable"
   ]
  },
  {
   "cell_type": "markdown",
   "id": "55c3d666",
   "metadata": {
    "slideshow": {
     "slide_type": "fragment"
    }
   },
   "source": [
    "Once you've defined a schema, you can use it in your source code"
   ]
  },
  {
   "cell_type": "code",
   "execution_count": null,
   "id": "e90cc017",
   "metadata": {
    "lines_to_next_cell": 1
   },
   "outputs": [],
   "source": [
    "# data_cleaning.py\n",
    "from pandera.typing import DataFrame\n",
    "\n",
    "@pa.check_types\n",
    "def clean_data(raw_data) -> DataFrame[Schema]:\n",
    "    return (\n",
    "        raw_data\n",
    "        # do some cleaning\n",
    "    )"
   ]
  },
  {
   "cell_type": "markdown",
   "id": "5cc059a9",
   "metadata": {
    "slideshow": {
     "slide_type": "fragment"
    }
   },
   "source": [
    "<br>\n",
    "... and your test suite (or anywhere you want, really!)"
   ]
  },
  {
   "cell_type": "code",
   "execution_count": null,
   "id": "26ff7276",
   "metadata": {
    "lines_to_next_cell": 2
   },
   "outputs": [],
   "source": [
    "# test_data_cleaning.py\n",
    "def test_clean_data():\n",
    "    raw_data = ...\n",
    "    clean_data(raw_data)"
   ]
  },
  {
   "cell_type": "markdown",
   "id": "47b0a1ca",
   "metadata": {
    "lines_to_next_cell": 2,
    "slideshow": {
     "slide_type": "fragment"
    }
   },
   "source": [
    "<br>\n",
    "Now the output dataframe type is validated when you call `clean_data` at runtime\n",
    "so our test reduces to an execution test!"
   ]
  },
  {
   "cell_type": "markdown",
   "id": "647a62f4",
   "metadata": {
    "lines_to_next_cell": 2,
    "slideshow": {
     "slide_type": "subslide"
    }
   },
   "source": [
    "### Adaptability: define a base schema and build on top of it"
   ]
  },
  {
   "cell_type": "code",
   "execution_count": null,
   "id": "7c99a4e8",
   "metadata": {
    "lines_to_next_cell": 1
   },
   "outputs": [],
   "source": [
    "class InputSchema(pa.SchemaModel):\n",
    "    _categories = [\"A\", \"B\", \"C\"]  # store arbitrary metadata in private class attributes\n",
    "    continuous: Series[float] = pa.Field(ge=0)\n",
    "    categorical: Series[str] = pa.Field(isin=_categories)\n",
    "\n",
    "    class Config:\n",
    "        coerce = True"
   ]
  },
  {
   "cell_type": "code",
   "execution_count": null,
   "id": "f095f843",
   "metadata": {
    "lines_to_next_cell": 1,
    "slideshow": {
     "slide_type": "fragment"
    }
   },
   "outputs": [],
   "source": [
    "class OutputSchema(InputSchema):\n",
    "    categorical_one_hot: Series[int] = pa.Field(alias=\"one_hot_\", regex=True)\n",
    "\n",
    "    @pa.check(\"one_hot_\")\n",
    "    def categorical_one_hot_check(cls, series):\n",
    "        return series.name[-1] in cls._categories"
   ]
  },
  {
   "cell_type": "code",
   "execution_count": null,
   "id": "0aafebbc",
   "metadata": {
    "slideshow": {
     "slide_type": "fragment"
    }
   },
   "outputs": [],
   "source": [
    "@pa.check_types\n",
    "def featurize_data(clean_data: DataFrame[InputSchema]) -> DataFrame[OutputSchema]:\n",
    "    one_hot = pd.get_dummies(clean_data[\"categorical\"], prefix=\"one_hot\")\n",
    "    return pd.concat([clean_data, one_hot], axis=\"columns\")\n",
    "\n",
    "display(featurize_data(raw_data).head(3))"
   ]
  },
  {
   "cell_type": "markdown",
   "id": "cdc48ee1",
   "metadata": {
    "slideshow": {
     "slide_type": "notes"
    }
   },
   "source": [
    "\n",
    "Since, dataframes are complex objects, pandera focuses on making the process\n",
    "of defining schemas as concise as possible, offloading the concerns around\n",
    "column types and allowable values so you can focus more on the\n",
    "analysis/modeling logic."
   ]
  },
  {
   "cell_type": "markdown",
   "id": "b3eedfe2",
   "metadata": {
    "slideshow": {
     "slide_type": "subslide"
    }
   },
   "source": [
    "\n",
    "### Portability: Support Other Dataframe Libraries and Schema Specifications in the Ecosystem\n",
    "\n",
    "[![github-issue](https://img.shields.io/badge/github_issue-420-blue?style=for-the-badge&logo=github)](https://github.com/pandera-dev/pandera/issues/420)\n",
    "\n",
    "Support frictionless data table schemas (✨ coming out in the `0.7.0` release ✨)"
   ]
  },
  {
   "cell_type": "markdown",
   "id": "4e742bf7",
   "metadata": {},
   "source": [
    "```python\n",
    "from pandera.io import from_frictionless_schema\n",
    "\n",
    "frictionless_schema = {\n",
    "    \"fields\": [\n",
    "        {\n",
    "            \"name\": \"column_1\",\n",
    "            \"type\": \"integer\",\n",
    "            \"constraints\": {\"minimum\": 10, \"maximum\": 99}\n",
    "        }\n",
    "    ],\n",
    "    \"primaryKey\": \"column_1\"\n",
    "}\n",
    "\n",
    "pandera_schema = from_frictionless_schema(frictionless_schema)\n",
    "```"
   ]
  },
  {
   "cell_type": "markdown",
   "id": "bf09ca07",
   "metadata": {
    "slideshow": {
     "slide_type": "subslide"
    }
   },
   "source": [
    "### 🛣 Roadmap Items"
   ]
  },
  {
   "cell_type": "markdown",
   "id": "e3f1bad6",
   "metadata": {
    "slideshow": {
     "slide_type": "fragment"
    }
   },
   "source": [
    "- ✅ Decouple pandera and pandas type systems [![github-issue](https://img.shields.io/badge/github_issue-369-blue?style=for-the-badge&logo=github)](https://github.com/pandera-dev/pandera/issues/369)"
   ]
  },
  {
   "cell_type": "markdown",
   "id": "9b13afa8",
   "metadata": {
    "lines_to_next_cell": 2,
    "slideshow": {
     "slide_type": "fragment"
    }
   },
   "source": [
    "-  Abstract out parsing/validation logic to support non-pandas dataframes [![github-issue](https://img.shields.io/badge/github_issue-381-blue?style=for-the-badge&logo=github)](https://github.com/pandera-dev/pandera/issues/381)"
   ]
  },
  {
   "cell_type": "markdown",
   "id": "1c5a4050",
   "metadata": {
    "slideshow": {
     "slide_type": "fragment"
    }
   },
   "source": [
    "- Add Titles and Descriptions for SchemaModels [![github-issue](https://img.shields.io/badge/github_issue-331-blue?style=for-the-badge&logo=github)](https://github.com/pandera-dev/pandera/issues/331)"
   ]
  },
  {
   "cell_type": "markdown",
   "id": "893580e9",
   "metadata": {
    "slideshow": {
     "slide_type": "slide"
    }
   },
   "source": [
    "\n",
    "### Principle 3: Generative Schemas Facilitate Property-based Testing\n",
    "\n",
    "You have a schema with a bunch of metadata about it... why not generate\n",
    "data for testing?"
   ]
  },
  {
   "cell_type": "code",
   "execution_count": null,
   "id": "be676463",
   "metadata": {
    "lines_to_next_cell": 2,
    "slideshow": {
     "slide_type": "fragment"
    }
   },
   "outputs": [],
   "source": [
    "display(InputSchema.example(size=3))"
   ]
  },
  {
   "cell_type": "code",
   "execution_count": null,
   "id": "b443656a",
   "metadata": {
    "lines_to_next_cell": 2,
    "slideshow": {
     "slide_type": "fragment"
    }
   },
   "outputs": [],
   "source": [
    "input_schema_strategy = InputSchema.strategy(size=5)\n",
    "print(input_schema_strategy)\n",
    "print(type(input_schema_strategy))"
   ]
  },
  {
   "cell_type": "code",
   "execution_count": null,
   "id": "76e90817",
   "metadata": {
    "slideshow": {
     "slide_type": "fragment"
    }
   },
   "outputs": [],
   "source": [
    "from hypothesis import given\n",
    "\n",
    "@given(input_schema_strategy)\n",
    "def test_featurize_data(clean_data):\n",
    "    featurize_data(clean_data)\n",
    "\n",
    "test_featurize_data()"
   ]
  },
  {
   "cell_type": "markdown",
   "id": "ba26a4cf",
   "metadata": {
    "lines_to_next_cell": 2,
    "slideshow": {
     "slide_type": "fragment"
    }
   },
   "source": [
    "Automate the tedium of hand-writing mock dataframes for testing!"
   ]
  },
  {
   "cell_type": "markdown",
   "id": "6f29f5c0",
   "metadata": {
    "slideshow": {
     "slide_type": "subslide"
    }
   },
   "source": [
    "\n",
    "#### Generate schemas as multi-purpose artifacts"
   ]
  },
  {
   "cell_type": "raw",
   "id": "de034eab",
   "metadata": {},
   "source": [
    "\n",
    "<p>At run-time<p/>\n",
    "\n",
    "<div class=\"mermaid\">\n",
    "graph LR\n",
    "    R[(raw data)] -- raw schema --> P[data processor]\n",
    "    P -- clean schema --> C[(clean data)]\n",
    "    C -- clean schema --> F[featurizer]\n",
    "    F -- feature schema --> X[(feature data)]\n",
    "</div>\n",
    "\n",
    "<p>At test-time<p/>\n",
    "\n",
    "<div class=\"mermaid\">\n",
    "graph LR\n",
    "    S(raw schema) --> R[(mock raw data)]\n",
    "    R --> P[data processor]\n",
    "    P -- clean schema --> O[output]\n",
    "</div>\n",
    "\n",
    "<div class=\"mermaid\">\n",
    "graph LR\n",
    "    S(clean schema) --> R[(mock clean data)]\n",
    "    R --> F[featurizer]\n",
    "    F -- feature schema --> O[output]\n",
    "</div>"
   ]
  },
  {
   "cell_type": "markdown",
   "id": "38f21539",
   "metadata": {
    "slideshow": {
     "slide_type": "subslide"
    }
   },
   "source": [
    "### 🛣 Roadmap Items"
   ]
  },
  {
   "cell_type": "markdown",
   "id": "dcf7a7d4",
   "metadata": {
    "slideshow": {
     "slide_type": "fragment"
    }
   },
   "source": [
    "- Add global schema-level override strategy [![github-issue](https://img.shields.io/badge/github_issue-561-blue?style=for-the-badge&logo=github)](https://github.com/pandera-dev/pandera/issues/561)"
   ]
  },
  {
   "cell_type": "markdown",
   "id": "249a358e",
   "metadata": {
    "slideshow": {
     "slide_type": "fragment"
    }
   },
   "source": [
    "- Support data synthesis strategies for joint distributions [![github-issue](https://img.shields.io/badge/github_issue-371-blue?style=for-the-badge&logo=github)](https://github.com/pandera-dev/pandera/issues/371)"
   ]
  },
  {
   "cell_type": "markdown",
   "id": "7a4b5d72",
   "metadata": {
    "slideshow": {
     "slide_type": "fragment"
    }
   },
   "source": [
    "- Make Hypothesis strategies more efficient [![github-issue](https://img.shields.io/badge/github_issue-404-blue?style=for-the-badge&logo=github)](https://github.com/pandera-dev/pandera/issues/404)"
   ]
  },
  {
   "cell_type": "markdown",
   "id": "e7fdb90b",
   "metadata": {
    "slideshow": {
     "slide_type": "slide"
    }
   },
   "source": [
    "\n",
    "### Principle 4: Profile __Data__ _and_ Data Pipelines\n",
    "\n",
    "Pandera uses basic data profiling to infer a schema from realistic data"
   ]
  },
  {
   "cell_type": "code",
   "execution_count": null,
   "id": "57b92786",
   "metadata": {},
   "outputs": [],
   "source": [
    "realistic_data = pd.DataFrame({\"continuous\": [1, 2, 3, 4, 5, 6]})\n",
    "bootstrapped_schema = pa.infer_schema(realistic_data)\n",
    "print(bootstrapped_schema)"
   ]
  },
  {
   "cell_type": "markdown",
   "id": "fe8575f7",
   "metadata": {
    "slideshow": {
     "slide_type": "subslide"
    }
   },
   "source": [
    "Write it out into a python file with `bootstrapped_schema.to_script(\"schemas.py\")`"
   ]
  },
  {
   "cell_type": "code",
   "execution_count": null,
   "id": "958e9e5d",
   "metadata": {
    "tags": [
     "hide_input"
    ]
   },
   "outputs": [],
   "source": [
    "Markdown(\n",
    "f\"\"\"\n",
    "```python\n",
    "{bootstrapped_schema.to_script()}\n",
    "```\n",
    "\"\"\"\n",
    ")"
   ]
  },
  {
   "cell_type": "markdown",
   "id": "278349d8",
   "metadata": {
    "slideshow": {
     "slide_type": "subslide"
    }
   },
   "source": [
    "Write it out into a yaml file with `bootstrapped_schema.to_yaml(\"schema.yaml\")`"
   ]
  },
  {
   "cell_type": "code",
   "execution_count": null,
   "id": "533f7276",
   "metadata": {
    "tags": [
     "hide_input"
    ]
   },
   "outputs": [],
   "source": [
    "Markdown(\n",
    "f\"\"\"\n",
    "```yaml\n",
    "{bootstrapped_schema.to_yaml()}\n",
    "```\n",
    "\"\"\"\n",
    ")"
   ]
  },
  {
   "cell_type": "markdown",
   "id": "cb2a7d4e",
   "metadata": {
    "slideshow": {
     "slide_type": "subslide"
    }
   },
   "source": [
    "### 🛣 Roadmap Item\n",
    "\n",
    "Create schema from a `pandas-profiling` `ProfileReport` [![github-issue](https://img.shields.io/badge/github_issue-562-blue?style=for-the-badge&logo=github)](https://github.com/pandera-dev/pandera/issues/562)\n",
    "\n",
    "```python\n",
    "from pandera.io import from_pandas_profile_report\n",
    "\n",
    "df = ...\n",
    "profile = ProfileReport(df)\n",
    "schema = from_pandas_profile_report(profile)\n",
    "```"
   ]
  },
  {
   "cell_type": "markdown",
   "id": "631b27b4",
   "metadata": {
    "slideshow": {
     "slide_type": "subslide"
    }
   },
   "source": [
    "\n",
    "## Profile Data _and_ __Data Pipelines__\n",
    "\n",
    "If we have pandera schema type annotations..."
   ]
  },
  {
   "cell_type": "markdown",
   "id": "ab21fc14",
   "metadata": {
    "slideshow": {
     "slide_type": "fragment"
    }
   },
   "source": [
    "```python\n",
    "import pandera as pa\n",
    "from pandera.typing import DataFrame as DF\n",
    "\n",
    "from schemas import Raw, Clean, Training\n",
    "\n",
    "@pa.check_types\n",
    "def load() -> DF[Raw]:\n",
    "    ...\n",
    "\n",
    "@pa.check_types\n",
    "def clean(raw_data: DF[Raw]) -> DF[Clean]:\n",
    "    ...\n",
    "\n",
    "@pa.check_types\n",
    "def featurize(clean_data: DF[Clean]) -> DF[Training]:\n",
    "    ...\n",
    "\n",
    "@pa.check_types\n",
    "def train_model(training_data: DF[Training]):\n",
    "    ...\n",
    "```"
   ]
  },
  {
   "cell_type": "markdown",
   "id": "cd433d28",
   "metadata": {
    "slideshow": {
     "slide_type": "subslide"
    }
   },
   "source": [
    "We can potentially create a data flow graph"
   ]
  },
  {
   "cell_type": "raw",
   "id": "d6be2dc1",
   "metadata": {},
   "source": [
    "<div class=\"mermaid\">\n",
    "graph LR\n",
    "    L[load] --DF-Raw--> C[clean]\n",
    "    C --DF-Clean--> F[featurize]\n",
    "    F --DF-Training--> T[train_model]\n",
    "</div>"
   ]
  },
  {
   "cell_type": "markdown",
   "id": "f72f593f",
   "metadata": {
    "slideshow": {
     "slide_type": "fragment"
    }
   },
   "source": [
    "<br>\n",
    "Collect coverage statistics of schema-annotated dataframes to identify\n",
    "points in the pipeline that lack dataframe type coverage\n",
    "\n",
    "| Function | Input Type | Output Type | Test Errors |\n",
    "| -------- | ---------- | ----------- | ----------- |\n",
    "| load | - | DF[Raw] | 0 |\n",
    "| clean | DF[Raw] | DF[Clean] | 1 |\n",
    "| featurize | DF[Clean] | DF[Train] | 7 |\n",
    "| train_model | DF[Train] | - | 2 |"
   ]
  },
  {
   "cell_type": "markdown",
   "id": "55688df7",
   "metadata": {
    "slideshow": {
     "slide_type": "subslide"
    }
   },
   "source": [
    "### 🛣 Roadmap Items"
   ]
  },
  {
   "cell_type": "markdown",
   "id": "d86d1a70",
   "metadata": {
    "slideshow": {
     "slide_type": "fragment"
    }
   },
   "source": [
    "- Parse schema-decorated functions to construct a dataflow graph [![github-issue](https://img.shields.io/badge/github_issue-392-blue?style=for-the-badge&logo=github)](https://github.com/pandera-dev/pandera/issues/392)"
   ]
  },
  {
   "cell_type": "markdown",
   "id": "3faa4a70",
   "metadata": {
    "slideshow": {
     "slide_type": "fragment"
    }
   },
   "source": [
    "- Implement error report aggregator [![github-issue](https://img.shields.io/badge/github_issue-425-blue?style=for-the-badge&logo=github)](https://github.com/pandera-dev/pandera/issues/425)"
   ]
  },
  {
   "cell_type": "markdown",
   "id": "bab1c3e6",
   "metadata": {
    "slideshow": {
     "slide_type": "fragment"
    }
   },
   "source": [
    "- Implement CLI for pipeline profiling and reports [![github-issue](https://img.shields.io/badge/github_issue-426-blue?style=for-the-badge&logo=github)](https://github.com/pandera-dev/pandera/issues/426)"
   ]
  },
  {
   "cell_type": "markdown",
   "id": "25c644d2",
   "metadata": {
    "slideshow": {
     "slide_type": "fragment"
    }
   },
   "source": [
    "- Create `pytest-pandera` plugin for profiling data pipelines in your test suite [![github-issue](https://img.shields.io/badge/github-repo-blue?style=for-the-badge&logo=github)](https://github.com/pandera-dev/pytest-pandera)"
   ]
  },
  {
   "cell_type": "markdown",
   "id": "000507ec",
   "metadata": {
    "slideshow": {
     "slide_type": "slide"
    }
   },
   "source": [
    "# 🛣 Roadmap\n",
    "\n",
    "| Guiding Principle | Description | Issue |\n",
    "| ----------------- | ----------- | ----- |\n",
    "| **Parse, then Validate** | Extend parsing functionality to support arbitrary transformations | [![github-issue](https://img.shields.io/badge/github_issue-252-blue?style=for-the-badge&logo=github)](https://github.com/pandera-dev/pandera/issues/252) |\n",
    "| **Make Schemas Reusable, Adaptable, and Portable** | Support Other Schema Specifications in the Ecosystem | [![github-issue](https://img.shields.io/badge/github_issue-420-blue?style=for-the-badge&logo=github)](https://github.com/pandera-dev/pandera/issues/420) |\n",
    "|  | Decouple pandera and pandas type systems | [![github-issue](https://img.shields.io/badge/github_issue-369-blue?style=for-the-badge&logo=github)](https://github.com/pandera-dev/pandera/issues/369) |\n",
    "|  | Abstract out parsing/validation logic to support non-pandas dataframes | [![github-issue](https://img.shields.io/badge/github_issue-381-blue?style=for-the-badge&logo=github)](https://github.com/pandera-dev/pandera/issues/381) |\n",
    "|  | Add Titles and Descriptions for SchemaModels | [![github-issue](https://img.shields.io/badge/github_issue-331-blue?style=for-the-badge&logo=github)](https://github.com/pandera-dev/pandera/issues/331) |\n",
    "| **Generative Schemas Facilitate Property-based Testing** | Add global schema-level override strategy | [![github-issue](https://img.shields.io/badge/github_issue-561-blue?style=for-the-badge&logo=github)](https://github.com/pandera-dev/pandera/issues/561) |\n",
    "|  | Support data synthesis strategies for joint distributions | [![github-issue](https://img.shields.io/badge/github_issue-371-blue?style=for-the-badge&logo=github)](https://github.com/pandera-dev/pandera/issues/371) |\n",
    "|  | Make Hypothesis strategies more efficient | [![github-issue](https://img.shields.io/badge/github_issue-404-blue?style=for-the-badge&logo=github)](https://github.com/pandera-dev/pandera/issues/404) |\n",
    "| **Profile Data and Data Pipelines** | Create schema from a `pandas-profiling` `ProfileReport` | [![github-issue](https://img.shields.io/badge/github_issue-562-blue?style=for-the-badge&logo=github)](https://github.com/pandera-dev/pandera/issues/562) |\n",
    "|  | Parse schema-decorated functions to construct a dataflow graph | [![github-issue](https://img.shields.io/badge/github_issue-392-blue?style=for-the-badge&logo=github)](https://github.com/pandera-dev/pandera/issues/392) |\n",
    "|  | Implement error report aggregator | [![github-issue](https://img.shields.io/badge/github_issue-425-blue?style=for-the-badge&logo=github)](https://github.com/pandera-dev/pandera/issues/425) |\n",
    "|  | Implement CLI for pipeline profiling and reports | [![github-issue](https://img.shields.io/badge/github_issue-426-blue?style=for-the-badge&logo=github)](https://github.com/pandera-dev/pandera/issues/426) |\n",
    "|  | Create `pytest-pandera` plugin for profiling data pipelines in your test suite | [![github-issue](https://img.shields.io/badge/github-repo-blue?style=for-the-badge&logo=github)](https://github.com/pandera-dev/pytest-pandera) |"
   ]
  },
  {
   "cell_type": "markdown",
   "id": "c50859e5",
   "metadata": {
    "slideshow": {
     "slide_type": "slide"
    }
   },
   "source": [
    "\n",
    "# Where to Learn More\n",
    "\n",
    "- **Pycon [2021]** - Statistical Typing: A Runtime TypingSystem for Data Science and Machine Learning\n",
    "  - video: https://youtu.be/PI5UmKi14cM\n",
    "- **Scipy [2020]** - Statistical Data Validation of Pandas Dataframes\n",
    "  - video: https://youtu.be/PxTLD-ueNd4\n",
    "  - talk: https://conference.scipy.org/proceedings/scipy2020/pdfs/niels_bantilan.pdf\n",
    "- **Pandera Blog [2020]**: https://blog.pandera.ci/statistical%20typing/unit%20testing/2020/12/26/statistical-typing.html\n",
    "- **PyOpenSci Blog [2019]**: https://www.pyopensci.org/blog/pandera-python-pandas-dataframe-validation\n",
    "- **Personal Blog [2018]**: https://cosmicbboy.github.io/2018/12/28/validating-pandas-dataframes.html"
   ]
  },
  {
   "cell_type": "markdown",
   "id": "6ea07247",
   "metadata": {
    "slideshow": {
     "slide_type": "slide"
    }
   },
   "source": [
    "\n",
    "# How to Contribute\n",
    "\n",
    "![badge](https://img.shields.io/github/stars/pandera-dev/pandera?style=social)\n",
    "[![badge](https://img.shields.io/pypi/pyversions/pandera.svg)](https://pypi.python.org/pypi/pandera/)\n",
    "[![badge](https://img.shields.io/pypi/v/pandera.svg)](https://pypi.org/project/pandera/)\n",
    "![badge](https://img.shields.io/github/contributors/pandera-dev/pandera)\n",
    "[![badge](https://pepy.tech/badge/pandera/month)](https://pepy.tech/project/pandera)\n",
    "[![badge](https://pepy.tech/badge/pandera)](https://pepy.tech/project/pandera)\n",
    "\n",
    "- **Repo**: https://github.com/pandera-dev/pandera\n",
    "- **Docs**: https://pandera.readthedocs.io\n",
    "- **Contributing Guide**: https://pandera.readthedocs.io/en/stable/CONTRIBUTING.html"
   ]
  },
  {
   "cell_type": "markdown",
   "id": "f2959273",
   "metadata": {
    "slideshow": {
     "slide_type": "fragment"
    }
   },
   "source": [
    "\n",
    "##### Join the Scipy Mentored Sprints! 👟👟 "
   ]
  },
  {
   "cell_type": "markdown",
   "id": "9c72c878",
   "metadata": {
    "slideshow": {
     "slide_type": "fragment"
    }
   },
   "source": [
    "\n",
    "##### Toss a coin to your maintainer 👍🪙 https://github.com/sponsors/cosmicBboy"
   ]
  },
  {
   "cell_type": "markdown",
   "id": "9be4cf76",
   "metadata": {
    "slideshow": {
     "slide_type": "slide"
    }
   },
   "source": [
    "\n",
    "### 🎉 Shoutouts to [pyopensci](https://www.pyopensci.org/) all the pandera contributors! 🎉\n",
    "\n",
    "# <img src=\"https://raw.githubusercontent.com/pandera-dev/pandera-presentations/master/static/pandera-growth-july-2021.png\" width=\"400px\" style=\"margin: auto;\"/>"
   ]
  }
 ],
 "metadata": {
  "jupytext": {
   "encoding": "# -*- coding: utf-8 -*-",
   "formats": "ipynb,py:percent"
  },
  "kernelspec": {
   "display_name": "pandera-presentations",
   "language": "python",
   "name": "pandera-presentations"
  }
 },
 "nbformat": 4,
 "nbformat_minor": 5
}
